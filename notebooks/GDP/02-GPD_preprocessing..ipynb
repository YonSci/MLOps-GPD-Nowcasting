{
 "cells": [
  {
   "cell_type": "markdown",
   "metadata": {},
   "source": [
    "# GDP Data Reading, Cleaning, & Preprocessing"
   ]
  },
  {
   "cell_type": "code",
   "execution_count": 6,
   "metadata": {},
   "outputs": [],
   "source": [
    "# Importing modules/libraries\n",
    "\n",
    "import pandas as pd\n",
    "import numpy as np\n",
    "\n",
    "import matplotlib.pyplot as plt\n",
    "import plotly.graph_objects as go\n",
    "from statsmodels.tsa.stattools import adfuller, kpss\n",
    "import statsmodels.api as sm\n",
    "\n",
    "import warnings\n",
    "warnings.filterwarnings(\"ignore\")"
   ]
  },
  {
   "cell_type": "markdown",
   "metadata": {},
   "source": [
    "## Load and Read the GDP data"
   ]
  },
  {
   "cell_type": "code",
   "execution_count": 8,
   "metadata": {},
   "outputs": [
    {
     "data": {
      "text/html": [
       "<div>\n",
       "<style scoped>\n",
       "    .dataframe tbody tr th:only-of-type {\n",
       "        vertical-align: middle;\n",
       "    }\n",
       "\n",
       "    .dataframe tbody tr th {\n",
       "        vertical-align: top;\n",
       "    }\n",
       "\n",
       "    .dataframe thead th {\n",
       "        text-align: right;\n",
       "    }\n",
       "</style>\n",
       "<table border=\"1\" class=\"dataframe\">\n",
       "  <thead>\n",
       "    <tr style=\"text-align: right;\">\n",
       "      <th></th>\n",
       "      <th>REF_DATE</th>\n",
       "      <th>GEO</th>\n",
       "      <th>DGUID</th>\n",
       "      <th>Prices</th>\n",
       "      <th>Seasonal adjustment</th>\n",
       "      <th>Estimates</th>\n",
       "      <th>UOM</th>\n",
       "      <th>UOM_ID</th>\n",
       "      <th>SCALAR_FACTOR</th>\n",
       "      <th>SCALAR_ID</th>\n",
       "      <th>VECTOR</th>\n",
       "      <th>COORDINATE</th>\n",
       "      <th>VALUE</th>\n",
       "      <th>STATUS</th>\n",
       "      <th>SYMBOL</th>\n",
       "      <th>TERMINATED</th>\n",
       "      <th>DECIMALS</th>\n",
       "    </tr>\n",
       "  </thead>\n",
       "  <tbody>\n",
       "    <tr>\n",
       "      <th>0</th>\n",
       "      <td>1961-01</td>\n",
       "      <td>Canada</td>\n",
       "      <td>2016A000011124</td>\n",
       "      <td>Chained (2012) dollars</td>\n",
       "      <td>Seasonally adjusted at annual rates</td>\n",
       "      <td>Final consumption expenditure</td>\n",
       "      <td>Dollars</td>\n",
       "      <td>81</td>\n",
       "      <td>millions</td>\n",
       "      <td>6</td>\n",
       "      <td>v62305723</td>\n",
       "      <td>1.1.1.1</td>\n",
       "      <td>273818.0</td>\n",
       "      <td>NaN</td>\n",
       "      <td>NaN</td>\n",
       "      <td>NaN</td>\n",
       "      <td>0</td>\n",
       "    </tr>\n",
       "    <tr>\n",
       "      <th>1</th>\n",
       "      <td>1961-01</td>\n",
       "      <td>Canada</td>\n",
       "      <td>2016A000011124</td>\n",
       "      <td>Chained (2012) dollars</td>\n",
       "      <td>Seasonally adjusted at annual rates</td>\n",
       "      <td>Household final consumption expenditure</td>\n",
       "      <td>Dollars</td>\n",
       "      <td>81</td>\n",
       "      <td>millions</td>\n",
       "      <td>6</td>\n",
       "      <td>v62305724</td>\n",
       "      <td>1.1.1.2</td>\n",
       "      <td>182300.0</td>\n",
       "      <td>NaN</td>\n",
       "      <td>NaN</td>\n",
       "      <td>NaN</td>\n",
       "      <td>0</td>\n",
       "    </tr>\n",
       "    <tr>\n",
       "      <th>2</th>\n",
       "      <td>1961-01</td>\n",
       "      <td>Canada</td>\n",
       "      <td>2016A000011124</td>\n",
       "      <td>Chained (2012) dollars</td>\n",
       "      <td>Seasonally adjusted at annual rates</td>\n",
       "      <td>Goods</td>\n",
       "      <td>Dollars</td>\n",
       "      <td>81</td>\n",
       "      <td>millions</td>\n",
       "      <td>6</td>\n",
       "      <td>v62305725</td>\n",
       "      <td>1.1.1.3</td>\n",
       "      <td>81917.0</td>\n",
       "      <td>NaN</td>\n",
       "      <td>NaN</td>\n",
       "      <td>NaN</td>\n",
       "      <td>0</td>\n",
       "    </tr>\n",
       "    <tr>\n",
       "      <th>3</th>\n",
       "      <td>1961-01</td>\n",
       "      <td>Canada</td>\n",
       "      <td>2016A000011124</td>\n",
       "      <td>Chained (2012) dollars</td>\n",
       "      <td>Seasonally adjusted at annual rates</td>\n",
       "      <td>Durable goods</td>\n",
       "      <td>Dollars</td>\n",
       "      <td>81</td>\n",
       "      <td>millions</td>\n",
       "      <td>6</td>\n",
       "      <td>v62305726</td>\n",
       "      <td>1.1.1.4</td>\n",
       "      <td>7346.0</td>\n",
       "      <td>NaN</td>\n",
       "      <td>NaN</td>\n",
       "      <td>NaN</td>\n",
       "      <td>0</td>\n",
       "    </tr>\n",
       "    <tr>\n",
       "      <th>4</th>\n",
       "      <td>1961-01</td>\n",
       "      <td>Canada</td>\n",
       "      <td>2016A000011124</td>\n",
       "      <td>Chained (2012) dollars</td>\n",
       "      <td>Seasonally adjusted at annual rates</td>\n",
       "      <td>Semi-durable goods</td>\n",
       "      <td>Dollars</td>\n",
       "      <td>81</td>\n",
       "      <td>millions</td>\n",
       "      <td>6</td>\n",
       "      <td>v62305727</td>\n",
       "      <td>1.1.1.5</td>\n",
       "      <td>10174.0</td>\n",
       "      <td>NaN</td>\n",
       "      <td>NaN</td>\n",
       "      <td>NaN</td>\n",
       "      <td>0</td>\n",
       "    </tr>\n",
       "  </tbody>\n",
       "</table>\n",
       "</div>"
      ],
      "text/plain": [
       "  REF_DATE     GEO           DGUID                  Prices  \\\n",
       "0  1961-01  Canada  2016A000011124  Chained (2012) dollars   \n",
       "1  1961-01  Canada  2016A000011124  Chained (2012) dollars   \n",
       "2  1961-01  Canada  2016A000011124  Chained (2012) dollars   \n",
       "3  1961-01  Canada  2016A000011124  Chained (2012) dollars   \n",
       "4  1961-01  Canada  2016A000011124  Chained (2012) dollars   \n",
       "\n",
       "                   Seasonal adjustment  \\\n",
       "0  Seasonally adjusted at annual rates   \n",
       "1  Seasonally adjusted at annual rates   \n",
       "2  Seasonally adjusted at annual rates   \n",
       "3  Seasonally adjusted at annual rates   \n",
       "4  Seasonally adjusted at annual rates   \n",
       "\n",
       "                                 Estimates      UOM  UOM_ID SCALAR_FACTOR  \\\n",
       "0            Final consumption expenditure  Dollars      81      millions   \n",
       "1  Household final consumption expenditure  Dollars      81      millions   \n",
       "2                                    Goods  Dollars      81      millions   \n",
       "3                            Durable goods  Dollars      81      millions   \n",
       "4                       Semi-durable goods  Dollars      81      millions   \n",
       "\n",
       "   SCALAR_ID     VECTOR COORDINATE     VALUE STATUS  SYMBOL TERMINATED  \\\n",
       "0          6  v62305723    1.1.1.1  273818.0    NaN     NaN        NaN   \n",
       "1          6  v62305724    1.1.1.2  182300.0    NaN     NaN        NaN   \n",
       "2          6  v62305725    1.1.1.3   81917.0    NaN     NaN        NaN   \n",
       "3          6  v62305726    1.1.1.4    7346.0    NaN     NaN        NaN   \n",
       "4          6  v62305727    1.1.1.5   10174.0    NaN     NaN        NaN   \n",
       "\n",
       "   DECIMALS  \n",
       "0         0  \n",
       "1         0  \n",
       "2         0  \n",
       "3         0  \n",
       "4         0  "
      ]
     },
     "execution_count": 8,
     "metadata": {},
     "output_type": "execute_result"
    }
   ],
   "source": [
    "# Load the data\n",
    "gdp_data_path = 'data/expenditure_gdp.csv'\n",
    "# Read the data\n",
    "gdp_data = pd.read_csv(gdp_data_path)\n",
    "# Display the first few rows of the data\n",
    "gdp_data.head()"
   ]
  },
  {
   "cell_type": "markdown",
   "metadata": {},
   "source": [
    "## Checking the column names"
   ]
  },
  {
   "cell_type": "code",
   "execution_count": 9,
   "metadata": {},
   "outputs": [
    {
     "data": {
      "text/plain": [
       "Index(['REF_DATE', 'GEO', 'DGUID', 'Prices', 'Seasonal adjustment',\n",
       "       'Estimates', 'UOM', 'UOM_ID', 'SCALAR_FACTOR', 'SCALAR_ID', 'VECTOR',\n",
       "       'COORDINATE', 'VALUE', 'STATUS', 'SYMBOL', 'TERMINATED', 'DECIMALS'],\n",
       "      dtype='object')"
      ]
     },
     "execution_count": 9,
     "metadata": {},
     "output_type": "execute_result"
    }
   ],
   "source": [
    "gdp_data.columns"
   ]
  },
  {
   "cell_type": "markdown",
   "metadata": {},
   "source": [
    "## List data types of each column"
   ]
  },
  {
   "cell_type": "code",
   "execution_count": 17,
   "metadata": {},
   "outputs": [
    {
     "data": {
      "text/plain": [
       "REF_DATE               datetime64[ns]\n",
       "GEO                            object\n",
       "DGUID                          object\n",
       "Prices                         object\n",
       "Seasonal adjustment            object\n",
       "Estimates                      object\n",
       "UOM                            object\n",
       "UOM_ID                          int64\n",
       "SCALAR_FACTOR                  object\n",
       "SCALAR_ID                       int64\n",
       "VECTOR                         object\n",
       "COORDINATE                     object\n",
       "VALUE                         float64\n",
       "STATUS                         object\n",
       "SYMBOL                        float64\n",
       "TERMINATED                     object\n",
       "DECIMALS                        int64\n",
       "dtype: object"
      ]
     },
     "execution_count": 17,
     "metadata": {},
     "output_type": "execute_result"
    }
   ],
   "source": [
    "gdp_data.dtypes"
   ]
  },
  {
   "cell_type": "markdown",
   "metadata": {},
   "source": [
    "## Convert REF_DATE to datetime"
   ]
  },
  {
   "cell_type": "code",
   "execution_count": 11,
   "metadata": {},
   "outputs": [
    {
     "data": {
      "text/plain": [
       "REF_DATE               datetime64[ns]\n",
       "GEO                            object\n",
       "DGUID                          object\n",
       "Prices                         object\n",
       "Seasonal adjustment            object\n",
       "Estimates                      object\n",
       "UOM                            object\n",
       "UOM_ID                          int64\n",
       "SCALAR_FACTOR                  object\n",
       "SCALAR_ID                       int64\n",
       "VECTOR                         object\n",
       "COORDINATE                     object\n",
       "VALUE                         float64\n",
       "STATUS                         object\n",
       "SYMBOL                        float64\n",
       "TERMINATED                     object\n",
       "DECIMALS                        int64\n",
       "dtype: object"
      ]
     },
     "execution_count": 11,
     "metadata": {},
     "output_type": "execute_result"
    }
   ],
   "source": [
    "gdp_data['REF_DATE'] = pd.to_datetime(gdp_data['REF_DATE'])\n",
    "gdp_data.dtypes"
   ]
  },
  {
   "cell_type": "code",
   "execution_count": 12,
   "metadata": {},
   "outputs": [
    {
     "data": {
      "text/html": [
       "<div>\n",
       "<style scoped>\n",
       "    .dataframe tbody tr th:only-of-type {\n",
       "        vertical-align: middle;\n",
       "    }\n",
       "\n",
       "    .dataframe tbody tr th {\n",
       "        vertical-align: top;\n",
       "    }\n",
       "\n",
       "    .dataframe thead th {\n",
       "        text-align: right;\n",
       "    }\n",
       "</style>\n",
       "<table border=\"1\" class=\"dataframe\">\n",
       "  <thead>\n",
       "    <tr style=\"text-align: right;\">\n",
       "      <th></th>\n",
       "      <th>REF_DATE</th>\n",
       "      <th>GEO</th>\n",
       "      <th>DGUID</th>\n",
       "      <th>Prices</th>\n",
       "      <th>Seasonal adjustment</th>\n",
       "      <th>Estimates</th>\n",
       "      <th>UOM</th>\n",
       "      <th>UOM_ID</th>\n",
       "      <th>SCALAR_FACTOR</th>\n",
       "      <th>SCALAR_ID</th>\n",
       "      <th>VECTOR</th>\n",
       "      <th>COORDINATE</th>\n",
       "      <th>VALUE</th>\n",
       "      <th>STATUS</th>\n",
       "      <th>SYMBOL</th>\n",
       "      <th>TERMINATED</th>\n",
       "      <th>DECIMALS</th>\n",
       "    </tr>\n",
       "  </thead>\n",
       "  <tbody>\n",
       "    <tr>\n",
       "      <th>0</th>\n",
       "      <td>1961-01-01</td>\n",
       "      <td>Canada</td>\n",
       "      <td>2016A000011124</td>\n",
       "      <td>Chained (2012) dollars</td>\n",
       "      <td>Seasonally adjusted at annual rates</td>\n",
       "      <td>Final consumption expenditure</td>\n",
       "      <td>Dollars</td>\n",
       "      <td>81</td>\n",
       "      <td>millions</td>\n",
       "      <td>6</td>\n",
       "      <td>v62305723</td>\n",
       "      <td>1.1.1.1</td>\n",
       "      <td>273818.0</td>\n",
       "      <td>NaN</td>\n",
       "      <td>NaN</td>\n",
       "      <td>NaN</td>\n",
       "      <td>0</td>\n",
       "    </tr>\n",
       "    <tr>\n",
       "      <th>1</th>\n",
       "      <td>1961-01-01</td>\n",
       "      <td>Canada</td>\n",
       "      <td>2016A000011124</td>\n",
       "      <td>Chained (2012) dollars</td>\n",
       "      <td>Seasonally adjusted at annual rates</td>\n",
       "      <td>Household final consumption expenditure</td>\n",
       "      <td>Dollars</td>\n",
       "      <td>81</td>\n",
       "      <td>millions</td>\n",
       "      <td>6</td>\n",
       "      <td>v62305724</td>\n",
       "      <td>1.1.1.2</td>\n",
       "      <td>182300.0</td>\n",
       "      <td>NaN</td>\n",
       "      <td>NaN</td>\n",
       "      <td>NaN</td>\n",
       "      <td>0</td>\n",
       "    </tr>\n",
       "  </tbody>\n",
       "</table>\n",
       "</div>"
      ],
      "text/plain": [
       "    REF_DATE     GEO           DGUID                  Prices  \\\n",
       "0 1961-01-01  Canada  2016A000011124  Chained (2012) dollars   \n",
       "1 1961-01-01  Canada  2016A000011124  Chained (2012) dollars   \n",
       "\n",
       "                   Seasonal adjustment  \\\n",
       "0  Seasonally adjusted at annual rates   \n",
       "1  Seasonally adjusted at annual rates   \n",
       "\n",
       "                                 Estimates      UOM  UOM_ID SCALAR_FACTOR  \\\n",
       "0            Final consumption expenditure  Dollars      81      millions   \n",
       "1  Household final consumption expenditure  Dollars      81      millions   \n",
       "\n",
       "   SCALAR_ID     VECTOR COORDINATE     VALUE STATUS  SYMBOL TERMINATED  \\\n",
       "0          6  v62305723    1.1.1.1  273818.0    NaN     NaN        NaN   \n",
       "1          6  v62305724    1.1.1.2  182300.0    NaN     NaN        NaN   \n",
       "\n",
       "   DECIMALS  \n",
       "0         0  \n",
       "1         0  "
      ]
     },
     "execution_count": 12,
     "metadata": {},
     "output_type": "execute_result"
    }
   ],
   "source": [
    "gdp_data.head(2)"
   ]
  },
  {
   "cell_type": "markdown",
   "metadata": {},
   "source": [
    "## Filter the data"
   ]
  },
  {
   "cell_type": "markdown",
   "metadata": {},
   "source": [
    "- The 'REF_DATE' should be greater than or equal to '2004-01-01'.\n",
    "\n",
    "- The 'Prices' should be 'Chained (2012) dollars'.\n",
    "\n",
    "- The 'Estimates' should be 'Gross domestic product at market prices'.\n",
    "\n",
    "- The 'UOM' (Unit of Measure) should be 'Dollars'."
   ]
  },
  {
   "cell_type": "code",
   "execution_count": 14,
   "metadata": {},
   "outputs": [
    {
     "data": {
      "text/html": [
       "<div>\n",
       "<style scoped>\n",
       "    .dataframe tbody tr th:only-of-type {\n",
       "        vertical-align: middle;\n",
       "    }\n",
       "\n",
       "    .dataframe tbody tr th {\n",
       "        vertical-align: top;\n",
       "    }\n",
       "\n",
       "    .dataframe thead th {\n",
       "        text-align: right;\n",
       "    }\n",
       "</style>\n",
       "<table border=\"1\" class=\"dataframe\">\n",
       "  <thead>\n",
       "    <tr style=\"text-align: right;\">\n",
       "      <th></th>\n",
       "      <th>REF_DATE</th>\n",
       "      <th>GEO</th>\n",
       "      <th>DGUID</th>\n",
       "      <th>Prices</th>\n",
       "      <th>Seasonal adjustment</th>\n",
       "      <th>Estimates</th>\n",
       "      <th>UOM</th>\n",
       "      <th>UOM_ID</th>\n",
       "      <th>SCALAR_FACTOR</th>\n",
       "      <th>SCALAR_ID</th>\n",
       "      <th>VECTOR</th>\n",
       "      <th>COORDINATE</th>\n",
       "      <th>VALUE</th>\n",
       "      <th>STATUS</th>\n",
       "      <th>SYMBOL</th>\n",
       "      <th>TERMINATED</th>\n",
       "      <th>DECIMALS</th>\n",
       "    </tr>\n",
       "  </thead>\n",
       "  <tbody>\n",
       "    <tr>\n",
       "      <th>31505</th>\n",
       "      <td>2004-01-01</td>\n",
       "      <td>Canada</td>\n",
       "      <td>2016A000011124</td>\n",
       "      <td>Chained (2012) dollars</td>\n",
       "      <td>Seasonally adjusted at annual rates</td>\n",
       "      <td>Gross domestic product at market prices</td>\n",
       "      <td>Dollars</td>\n",
       "      <td>81</td>\n",
       "      <td>millions</td>\n",
       "      <td>6</td>\n",
       "      <td>v62305752</td>\n",
       "      <td>1.1.1.30</td>\n",
       "      <td>1566737.0</td>\n",
       "      <td>NaN</td>\n",
       "      <td>NaN</td>\n",
       "      <td>NaN</td>\n",
       "      <td>0</td>\n",
       "    </tr>\n",
       "    <tr>\n",
       "      <th>31688</th>\n",
       "      <td>2004-04-01</td>\n",
       "      <td>Canada</td>\n",
       "      <td>2016A000011124</td>\n",
       "      <td>Chained (2012) dollars</td>\n",
       "      <td>Seasonally adjusted at annual rates</td>\n",
       "      <td>Gross domestic product at market prices</td>\n",
       "      <td>Dollars</td>\n",
       "      <td>81</td>\n",
       "      <td>millions</td>\n",
       "      <td>6</td>\n",
       "      <td>v62305752</td>\n",
       "      <td>1.1.1.30</td>\n",
       "      <td>1585347.0</td>\n",
       "      <td>NaN</td>\n",
       "      <td>NaN</td>\n",
       "      <td>NaN</td>\n",
       "      <td>0</td>\n",
       "    </tr>\n",
       "    <tr>\n",
       "      <th>31871</th>\n",
       "      <td>2004-07-01</td>\n",
       "      <td>Canada</td>\n",
       "      <td>2016A000011124</td>\n",
       "      <td>Chained (2012) dollars</td>\n",
       "      <td>Seasonally adjusted at annual rates</td>\n",
       "      <td>Gross domestic product at market prices</td>\n",
       "      <td>Dollars</td>\n",
       "      <td>81</td>\n",
       "      <td>millions</td>\n",
       "      <td>6</td>\n",
       "      <td>v62305752</td>\n",
       "      <td>1.1.1.30</td>\n",
       "      <td>1604061.0</td>\n",
       "      <td>NaN</td>\n",
       "      <td>NaN</td>\n",
       "      <td>NaN</td>\n",
       "      <td>0</td>\n",
       "    </tr>\n",
       "    <tr>\n",
       "      <th>32054</th>\n",
       "      <td>2004-10-01</td>\n",
       "      <td>Canada</td>\n",
       "      <td>2016A000011124</td>\n",
       "      <td>Chained (2012) dollars</td>\n",
       "      <td>Seasonally adjusted at annual rates</td>\n",
       "      <td>Gross domestic product at market prices</td>\n",
       "      <td>Dollars</td>\n",
       "      <td>81</td>\n",
       "      <td>millions</td>\n",
       "      <td>6</td>\n",
       "      <td>v62305752</td>\n",
       "      <td>1.1.1.30</td>\n",
       "      <td>1615585.0</td>\n",
       "      <td>NaN</td>\n",
       "      <td>NaN</td>\n",
       "      <td>NaN</td>\n",
       "      <td>0</td>\n",
       "    </tr>\n",
       "    <tr>\n",
       "      <th>32237</th>\n",
       "      <td>2005-01-01</td>\n",
       "      <td>Canada</td>\n",
       "      <td>2016A000011124</td>\n",
       "      <td>Chained (2012) dollars</td>\n",
       "      <td>Seasonally adjusted at annual rates</td>\n",
       "      <td>Gross domestic product at market prices</td>\n",
       "      <td>Dollars</td>\n",
       "      <td>81</td>\n",
       "      <td>millions</td>\n",
       "      <td>6</td>\n",
       "      <td>v62305752</td>\n",
       "      <td>1.1.1.30</td>\n",
       "      <td>1621176.0</td>\n",
       "      <td>NaN</td>\n",
       "      <td>NaN</td>\n",
       "      <td>NaN</td>\n",
       "      <td>0</td>\n",
       "    </tr>\n",
       "  </tbody>\n",
       "</table>\n",
       "</div>"
      ],
      "text/plain": [
       "        REF_DATE     GEO           DGUID                  Prices  \\\n",
       "31505 2004-01-01  Canada  2016A000011124  Chained (2012) dollars   \n",
       "31688 2004-04-01  Canada  2016A000011124  Chained (2012) dollars   \n",
       "31871 2004-07-01  Canada  2016A000011124  Chained (2012) dollars   \n",
       "32054 2004-10-01  Canada  2016A000011124  Chained (2012) dollars   \n",
       "32237 2005-01-01  Canada  2016A000011124  Chained (2012) dollars   \n",
       "\n",
       "                       Seasonal adjustment  \\\n",
       "31505  Seasonally adjusted at annual rates   \n",
       "31688  Seasonally adjusted at annual rates   \n",
       "31871  Seasonally adjusted at annual rates   \n",
       "32054  Seasonally adjusted at annual rates   \n",
       "32237  Seasonally adjusted at annual rates   \n",
       "\n",
       "                                     Estimates      UOM  UOM_ID SCALAR_FACTOR  \\\n",
       "31505  Gross domestic product at market prices  Dollars      81      millions   \n",
       "31688  Gross domestic product at market prices  Dollars      81      millions   \n",
       "31871  Gross domestic product at market prices  Dollars      81      millions   \n",
       "32054  Gross domestic product at market prices  Dollars      81      millions   \n",
       "32237  Gross domestic product at market prices  Dollars      81      millions   \n",
       "\n",
       "       SCALAR_ID     VECTOR COORDINATE      VALUE STATUS  SYMBOL TERMINATED  \\\n",
       "31505          6  v62305752   1.1.1.30  1566737.0    NaN     NaN        NaN   \n",
       "31688          6  v62305752   1.1.1.30  1585347.0    NaN     NaN        NaN   \n",
       "31871          6  v62305752   1.1.1.30  1604061.0    NaN     NaN        NaN   \n",
       "32054          6  v62305752   1.1.1.30  1615585.0    NaN     NaN        NaN   \n",
       "32237          6  v62305752   1.1.1.30  1621176.0    NaN     NaN        NaN   \n",
       "\n",
       "       DECIMALS  \n",
       "31505         0  \n",
       "31688         0  \n",
       "31871         0  \n",
       "32054         0  \n",
       "32237         0  "
      ]
     },
     "execution_count": 14,
     "metadata": {},
     "output_type": "execute_result"
    }
   ],
   "source": [
    "# filter data for the following conditions\n",
    "gdp_subset = gdp_data[(gdp_data['REF_DATE'] >= '2004-01-01') &\n",
    "                (gdp_data['Prices'] == 'Chained (2012) dollars') & \n",
    "                (gdp_data['Estimates'] == 'Gross domestic product at market prices') &\n",
    "                 (gdp_data['UOM'] == 'Dollars')]\n",
    "\n",
    "gdp_subset.head()"
   ]
  },
  {
   "cell_type": "markdown",
   "metadata": {},
   "source": [
    "## Select the date and GDP column"
   ]
  },
  {
   "cell_type": "code",
   "execution_count": 15,
   "metadata": {},
   "outputs": [
    {
     "data": {
      "text/html": [
       "<div>\n",
       "<style scoped>\n",
       "    .dataframe tbody tr th:only-of-type {\n",
       "        vertical-align: middle;\n",
       "    }\n",
       "\n",
       "    .dataframe tbody tr th {\n",
       "        vertical-align: top;\n",
       "    }\n",
       "\n",
       "    .dataframe thead th {\n",
       "        text-align: right;\n",
       "    }\n",
       "</style>\n",
       "<table border=\"1\" class=\"dataframe\">\n",
       "  <thead>\n",
       "    <tr style=\"text-align: right;\">\n",
       "      <th></th>\n",
       "      <th>REF_DATE</th>\n",
       "      <th>VALUE</th>\n",
       "    </tr>\n",
       "  </thead>\n",
       "  <tbody>\n",
       "    <tr>\n",
       "      <th>31505</th>\n",
       "      <td>2004-01-01</td>\n",
       "      <td>1566737.0</td>\n",
       "    </tr>\n",
       "    <tr>\n",
       "      <th>31688</th>\n",
       "      <td>2004-04-01</td>\n",
       "      <td>1585347.0</td>\n",
       "    </tr>\n",
       "    <tr>\n",
       "      <th>31871</th>\n",
       "      <td>2004-07-01</td>\n",
       "      <td>1604061.0</td>\n",
       "    </tr>\n",
       "    <tr>\n",
       "      <th>32054</th>\n",
       "      <td>2004-10-01</td>\n",
       "      <td>1615585.0</td>\n",
       "    </tr>\n",
       "    <tr>\n",
       "      <th>32237</th>\n",
       "      <td>2005-01-01</td>\n",
       "      <td>1621176.0</td>\n",
       "    </tr>\n",
       "  </tbody>\n",
       "</table>\n",
       "</div>"
      ],
      "text/plain": [
       "        REF_DATE      VALUE\n",
       "31505 2004-01-01  1566737.0\n",
       "31688 2004-04-01  1585347.0\n",
       "31871 2004-07-01  1604061.0\n",
       "32054 2004-10-01  1615585.0\n",
       "32237 2005-01-01  1621176.0"
      ]
     },
     "execution_count": 15,
     "metadata": {},
     "output_type": "execute_result"
    }
   ],
   "source": [
    "gdpts = gdp_subset[['REF_DATE', 'VALUE']]\n",
    "gdpts.head()"
   ]
  },
  {
   "cell_type": "markdown",
   "metadata": {},
   "source": [
    "## Rename columns"
   ]
  },
  {
   "cell_type": "code",
   "execution_count": 16,
   "metadata": {},
   "outputs": [
    {
     "data": {
      "text/html": [
       "<div>\n",
       "<style scoped>\n",
       "    .dataframe tbody tr th:only-of-type {\n",
       "        vertical-align: middle;\n",
       "    }\n",
       "\n",
       "    .dataframe tbody tr th {\n",
       "        vertical-align: top;\n",
       "    }\n",
       "\n",
       "    .dataframe thead th {\n",
       "        text-align: right;\n",
       "    }\n",
       "</style>\n",
       "<table border=\"1\" class=\"dataframe\">\n",
       "  <thead>\n",
       "    <tr style=\"text-align: right;\">\n",
       "      <th></th>\n",
       "      <th>Date</th>\n",
       "      <th>GDP</th>\n",
       "    </tr>\n",
       "  </thead>\n",
       "  <tbody>\n",
       "    <tr>\n",
       "      <th>31505</th>\n",
       "      <td>2004-01-01</td>\n",
       "      <td>1566737.0</td>\n",
       "    </tr>\n",
       "    <tr>\n",
       "      <th>31688</th>\n",
       "      <td>2004-04-01</td>\n",
       "      <td>1585347.0</td>\n",
       "    </tr>\n",
       "    <tr>\n",
       "      <th>31871</th>\n",
       "      <td>2004-07-01</td>\n",
       "      <td>1604061.0</td>\n",
       "    </tr>\n",
       "    <tr>\n",
       "      <th>32054</th>\n",
       "      <td>2004-10-01</td>\n",
       "      <td>1615585.0</td>\n",
       "    </tr>\n",
       "    <tr>\n",
       "      <th>32237</th>\n",
       "      <td>2005-01-01</td>\n",
       "      <td>1621176.0</td>\n",
       "    </tr>\n",
       "  </tbody>\n",
       "</table>\n",
       "</div>"
      ],
      "text/plain": [
       "            Date        GDP\n",
       "31505 2004-01-01  1566737.0\n",
       "31688 2004-04-01  1585347.0\n",
       "31871 2004-07-01  1604061.0\n",
       "32054 2004-10-01  1615585.0\n",
       "32237 2005-01-01  1621176.0"
      ]
     },
     "execution_count": 16,
     "metadata": {},
     "output_type": "execute_result"
    }
   ],
   "source": [
    "# rename columns\n",
    "gdpts = gdpts.rename(columns = {'REF_DATE': 'Date', 'VALUE': 'GDP'})\n",
    "gdpts.head()"
   ]
  },
  {
   "cell_type": "markdown",
   "metadata": {},
   "source": [
    "## Set the Date column as the index\n"
   ]
  },
  {
   "cell_type": "code",
   "execution_count": 18,
   "metadata": {},
   "outputs": [
    {
     "data": {
      "text/html": [
       "<div>\n",
       "<style scoped>\n",
       "    .dataframe tbody tr th:only-of-type {\n",
       "        vertical-align: middle;\n",
       "    }\n",
       "\n",
       "    .dataframe tbody tr th {\n",
       "        vertical-align: top;\n",
       "    }\n",
       "\n",
       "    .dataframe thead th {\n",
       "        text-align: right;\n",
       "    }\n",
       "</style>\n",
       "<table border=\"1\" class=\"dataframe\">\n",
       "  <thead>\n",
       "    <tr style=\"text-align: right;\">\n",
       "      <th></th>\n",
       "      <th>Date</th>\n",
       "      <th>GDP</th>\n",
       "    </tr>\n",
       "    <tr>\n",
       "      <th>Date</th>\n",
       "      <th></th>\n",
       "      <th></th>\n",
       "    </tr>\n",
       "  </thead>\n",
       "  <tbody>\n",
       "    <tr>\n",
       "      <th>2004-01-01</th>\n",
       "      <td>2004-01-01</td>\n",
       "      <td>1566737.0</td>\n",
       "    </tr>\n",
       "    <tr>\n",
       "      <th>2004-04-01</th>\n",
       "      <td>2004-04-01</td>\n",
       "      <td>1585347.0</td>\n",
       "    </tr>\n",
       "    <tr>\n",
       "      <th>2004-07-01</th>\n",
       "      <td>2004-07-01</td>\n",
       "      <td>1604061.0</td>\n",
       "    </tr>\n",
       "    <tr>\n",
       "      <th>2004-10-01</th>\n",
       "      <td>2004-10-01</td>\n",
       "      <td>1615585.0</td>\n",
       "    </tr>\n",
       "    <tr>\n",
       "      <th>2005-01-01</th>\n",
       "      <td>2005-01-01</td>\n",
       "      <td>1621176.0</td>\n",
       "    </tr>\n",
       "  </tbody>\n",
       "</table>\n",
       "</div>"
      ],
      "text/plain": [
       "                 Date        GDP\n",
       "Date                            \n",
       "2004-01-01 2004-01-01  1566737.0\n",
       "2004-04-01 2004-04-01  1585347.0\n",
       "2004-07-01 2004-07-01  1604061.0\n",
       "2004-10-01 2004-10-01  1615585.0\n",
       "2005-01-01 2005-01-01  1621176.0"
      ]
     },
     "execution_count": 18,
     "metadata": {},
     "output_type": "execute_result"
    }
   ],
   "source": [
    "gdpts.index = gdpts['Date']\n",
    "gdpts.head()"
   ]
  },
  {
   "cell_type": "code",
   "execution_count": 22,
   "metadata": {},
   "outputs": [
    {
     "data": {
      "text/html": [
       "<div>\n",
       "<style scoped>\n",
       "    .dataframe tbody tr th:only-of-type {\n",
       "        vertical-align: middle;\n",
       "    }\n",
       "\n",
       "    .dataframe tbody tr th {\n",
       "        vertical-align: top;\n",
       "    }\n",
       "\n",
       "    .dataframe thead th {\n",
       "        text-align: right;\n",
       "    }\n",
       "</style>\n",
       "<table border=\"1\" class=\"dataframe\">\n",
       "  <thead>\n",
       "    <tr style=\"text-align: right;\">\n",
       "      <th></th>\n",
       "      <th>GDP</th>\n",
       "    </tr>\n",
       "    <tr>\n",
       "      <th>Date</th>\n",
       "      <th></th>\n",
       "    </tr>\n",
       "  </thead>\n",
       "  <tbody>\n",
       "    <tr>\n",
       "      <th>2004-01-01</th>\n",
       "      <td>1566737.0</td>\n",
       "    </tr>\n",
       "    <tr>\n",
       "      <th>2004-04-01</th>\n",
       "      <td>1585347.0</td>\n",
       "    </tr>\n",
       "    <tr>\n",
       "      <th>2004-07-01</th>\n",
       "      <td>1604061.0</td>\n",
       "    </tr>\n",
       "    <tr>\n",
       "      <th>2004-10-01</th>\n",
       "      <td>1615585.0</td>\n",
       "    </tr>\n",
       "    <tr>\n",
       "      <th>2005-01-01</th>\n",
       "      <td>1621176.0</td>\n",
       "    </tr>\n",
       "  </tbody>\n",
       "</table>\n",
       "</div>"
      ],
      "text/plain": [
       "                  GDP\n",
       "Date                 \n",
       "2004-01-01  1566737.0\n",
       "2004-04-01  1585347.0\n",
       "2004-07-01  1604061.0\n",
       "2004-10-01  1615585.0\n",
       "2005-01-01  1621176.0"
      ]
     },
     "execution_count": 22,
     "metadata": {},
     "output_type": "execute_result"
    }
   ],
   "source": [
    "# drop the Date column\n",
    "gdpts = gdpts.drop(columns = ['Date'])\n",
    "gdpts.head()"
   ]
  },
  {
   "cell_type": "markdown",
   "metadata": {},
   "source": [
    "## Create a copy of the original data"
   ]
  },
  {
   "cell_type": "code",
   "execution_count": 19,
   "metadata": {},
   "outputs": [
    {
     "data": {
      "text/html": [
       "<div>\n",
       "<style scoped>\n",
       "    .dataframe tbody tr th:only-of-type {\n",
       "        vertical-align: middle;\n",
       "    }\n",
       "\n",
       "    .dataframe tbody tr th {\n",
       "        vertical-align: top;\n",
       "    }\n",
       "\n",
       "    .dataframe thead th {\n",
       "        text-align: right;\n",
       "    }\n",
       "</style>\n",
       "<table border=\"1\" class=\"dataframe\">\n",
       "  <thead>\n",
       "    <tr style=\"text-align: right;\">\n",
       "      <th></th>\n",
       "      <th>Date</th>\n",
       "      <th>GDP</th>\n",
       "    </tr>\n",
       "    <tr>\n",
       "      <th>Date</th>\n",
       "      <th></th>\n",
       "      <th></th>\n",
       "    </tr>\n",
       "  </thead>\n",
       "  <tbody>\n",
       "    <tr>\n",
       "      <th>2020-10-01</th>\n",
       "      <td>2020-10-01</td>\n",
       "      <td>2058185.0</td>\n",
       "    </tr>\n",
       "    <tr>\n",
       "      <th>2021-01-01</th>\n",
       "      <td>2021-01-01</td>\n",
       "      <td>2082323.0</td>\n",
       "    </tr>\n",
       "    <tr>\n",
       "      <th>2021-04-01</th>\n",
       "      <td>2021-04-01</td>\n",
       "      <td>2063554.0</td>\n",
       "    </tr>\n",
       "    <tr>\n",
       "      <th>2021-07-01</th>\n",
       "      <td>2021-07-01</td>\n",
       "      <td>2091318.0</td>\n",
       "    </tr>\n",
       "    <tr>\n",
       "      <th>2021-10-01</th>\n",
       "      <td>2021-10-01</td>\n",
       "      <td>2125350.0</td>\n",
       "    </tr>\n",
       "  </tbody>\n",
       "</table>\n",
       "</div>"
      ],
      "text/plain": [
       "                 Date        GDP\n",
       "Date                            \n",
       "2020-10-01 2020-10-01  2058185.0\n",
       "2021-01-01 2021-01-01  2082323.0\n",
       "2021-04-01 2021-04-01  2063554.0\n",
       "2021-07-01 2021-07-01  2091318.0\n",
       "2021-10-01 2021-10-01  2125350.0"
      ]
     },
     "execution_count": 19,
     "metadata": {},
     "output_type": "execute_result"
    }
   ],
   "source": [
    "# Create a copy of the original data\n",
    "gdp_original = gdpts.copy()\n",
    "gdpts.tail()"
   ]
  },
  {
   "cell_type": "markdown",
   "metadata": {},
   "source": [
    "## Plot for GDP"
   ]
  },
  {
   "cell_type": "code",
   "execution_count": 20,
   "metadata": {},
   "outputs": [
    {
     "data": {
      "application/vnd.plotly.v1+json": {
       "config": {
        "plotlyServerURL": "https://plot.ly"
       },
       "data": [
        {
         "hoverinfo": "x+y",
         "hoverlabel": {
          "bgcolor": "white",
          "font": {
           "family": "Rockwell",
           "size": 12
          }
         },
         "hovertemplate": "Quarter: %{x}<br>GDP: %{y:.2f} trillion USD<br>",
         "line": {
          "color": "blue",
          "width": 2
         },
         "marker": {
          "color": "blue"
         },
         "mode": "markers+lines",
         "name": "GDP",
         "showlegend": true,
         "text": "GDP",
         "textfont": {
          "color": "blue",
          "family": "Rockwell",
          "size": 12
         },
         "textposition": "top center",
         "type": "scatter",
         "x": [
          "2004-01-01T00:00:00",
          "2004-04-01T00:00:00",
          "2004-07-01T00:00:00",
          "2004-10-01T00:00:00",
          "2005-01-01T00:00:00",
          "2005-04-01T00:00:00",
          "2005-07-01T00:00:00",
          "2005-10-01T00:00:00",
          "2006-01-01T00:00:00",
          "2006-04-01T00:00:00",
          "2006-07-01T00:00:00",
          "2006-10-01T00:00:00",
          "2007-01-01T00:00:00",
          "2007-04-01T00:00:00",
          "2007-07-01T00:00:00",
          "2007-10-01T00:00:00",
          "2008-01-01T00:00:00",
          "2008-04-01T00:00:00",
          "2008-07-01T00:00:00",
          "2008-10-01T00:00:00",
          "2009-01-01T00:00:00",
          "2009-04-01T00:00:00",
          "2009-07-01T00:00:00",
          "2009-10-01T00:00:00",
          "2010-01-01T00:00:00",
          "2010-04-01T00:00:00",
          "2010-07-01T00:00:00",
          "2010-10-01T00:00:00",
          "2011-01-01T00:00:00",
          "2011-04-01T00:00:00",
          "2011-07-01T00:00:00",
          "2011-10-01T00:00:00",
          "2012-01-01T00:00:00",
          "2012-04-01T00:00:00",
          "2012-07-01T00:00:00",
          "2012-10-01T00:00:00",
          "2013-01-01T00:00:00",
          "2013-04-01T00:00:00",
          "2013-07-01T00:00:00",
          "2013-10-01T00:00:00",
          "2014-01-01T00:00:00",
          "2014-04-01T00:00:00",
          "2014-07-01T00:00:00",
          "2014-10-01T00:00:00",
          "2015-01-01T00:00:00",
          "2015-04-01T00:00:00",
          "2015-07-01T00:00:00",
          "2015-10-01T00:00:00",
          "2016-01-01T00:00:00",
          "2016-04-01T00:00:00",
          "2016-07-01T00:00:00",
          "2016-10-01T00:00:00",
          "2017-01-01T00:00:00",
          "2017-04-01T00:00:00",
          "2017-07-01T00:00:00",
          "2017-10-01T00:00:00",
          "2018-01-01T00:00:00",
          "2018-04-01T00:00:00",
          "2018-07-01T00:00:00",
          "2018-10-01T00:00:00",
          "2019-01-01T00:00:00",
          "2019-04-01T00:00:00",
          "2019-07-01T00:00:00",
          "2019-10-01T00:00:00",
          "2020-01-01T00:00:00",
          "2020-04-01T00:00:00",
          "2020-07-01T00:00:00",
          "2020-10-01T00:00:00",
          "2021-01-01T00:00:00",
          "2021-04-01T00:00:00",
          "2021-07-01T00:00:00",
          "2021-10-01T00:00:00"
         ],
         "y": [
          1566737,
          1585347,
          1604061,
          1615585,
          1621176,
          1632938,
          1652719,
          1669060,
          1682596,
          1683465,
          1688166,
          1694895,
          1705736,
          1722263,
          1729494,
          1731459,
          1732786,
          1739053,
          1753314,
          1732984,
          1693824,
          1675340,
          1682878,
          1702503,
          1723041,
          1732057,
          1744332,
          1763825,
          1777148,
          1780610,
          1805176,
          1819392,
          1820558,
          1826496,
          1828984,
          1832766,
          1849206,
          1859938,
          1875096,
          1894795,
          1897892,
          1915226,
          1933594,
          1946974,
          1936275,
          1931005,
          1937835,
          1939286,
          1949923,
          1940335,
          1960344,
          1971351,
          1992778,
          2013165,
          2021658,
          2032130,
          2049916,
          2066010,
          2080268,
          2087359,
          2089251,
          2109950,
          2116842,
          2123207,
          2077403,
          1848005,
          2014029,
          2058185,
          2082323,
          2063554,
          2091318,
          2125350
         ]
        }
       ],
       "layout": {
        "autosize": false,
        "height": 500,
        "hoverlabel": {
         "bgcolor": "white",
         "font": {
          "family": "Rockwell",
          "size": 12
         }
        },
        "hovermode": "x unified",
        "margin": {
         "b": 100,
         "l": 50,
         "pad": 4,
         "r": 50,
         "t": 100
        },
        "template": {
         "data": {
          "bar": [
           {
            "error_x": {
             "color": "#2a3f5f"
            },
            "error_y": {
             "color": "#2a3f5f"
            },
            "marker": {
             "line": {
              "color": "#E5ECF6",
              "width": 0.5
             },
             "pattern": {
              "fillmode": "overlay",
              "size": 10,
              "solidity": 0.2
             }
            },
            "type": "bar"
           }
          ],
          "barpolar": [
           {
            "marker": {
             "line": {
              "color": "#E5ECF6",
              "width": 0.5
             },
             "pattern": {
              "fillmode": "overlay",
              "size": 10,
              "solidity": 0.2
             }
            },
            "type": "barpolar"
           }
          ],
          "carpet": [
           {
            "aaxis": {
             "endlinecolor": "#2a3f5f",
             "gridcolor": "white",
             "linecolor": "white",
             "minorgridcolor": "white",
             "startlinecolor": "#2a3f5f"
            },
            "baxis": {
             "endlinecolor": "#2a3f5f",
             "gridcolor": "white",
             "linecolor": "white",
             "minorgridcolor": "white",
             "startlinecolor": "#2a3f5f"
            },
            "type": "carpet"
           }
          ],
          "choropleth": [
           {
            "colorbar": {
             "outlinewidth": 0,
             "ticks": ""
            },
            "type": "choropleth"
           }
          ],
          "contour": [
           {
            "colorbar": {
             "outlinewidth": 0,
             "ticks": ""
            },
            "colorscale": [
             [
              0,
              "#0d0887"
             ],
             [
              0.1111111111111111,
              "#46039f"
             ],
             [
              0.2222222222222222,
              "#7201a8"
             ],
             [
              0.3333333333333333,
              "#9c179e"
             ],
             [
              0.4444444444444444,
              "#bd3786"
             ],
             [
              0.5555555555555556,
              "#d8576b"
             ],
             [
              0.6666666666666666,
              "#ed7953"
             ],
             [
              0.7777777777777778,
              "#fb9f3a"
             ],
             [
              0.8888888888888888,
              "#fdca26"
             ],
             [
              1,
              "#f0f921"
             ]
            ],
            "type": "contour"
           }
          ],
          "contourcarpet": [
           {
            "colorbar": {
             "outlinewidth": 0,
             "ticks": ""
            },
            "type": "contourcarpet"
           }
          ],
          "heatmap": [
           {
            "colorbar": {
             "outlinewidth": 0,
             "ticks": ""
            },
            "colorscale": [
             [
              0,
              "#0d0887"
             ],
             [
              0.1111111111111111,
              "#46039f"
             ],
             [
              0.2222222222222222,
              "#7201a8"
             ],
             [
              0.3333333333333333,
              "#9c179e"
             ],
             [
              0.4444444444444444,
              "#bd3786"
             ],
             [
              0.5555555555555556,
              "#d8576b"
             ],
             [
              0.6666666666666666,
              "#ed7953"
             ],
             [
              0.7777777777777778,
              "#fb9f3a"
             ],
             [
              0.8888888888888888,
              "#fdca26"
             ],
             [
              1,
              "#f0f921"
             ]
            ],
            "type": "heatmap"
           }
          ],
          "heatmapgl": [
           {
            "colorbar": {
             "outlinewidth": 0,
             "ticks": ""
            },
            "colorscale": [
             [
              0,
              "#0d0887"
             ],
             [
              0.1111111111111111,
              "#46039f"
             ],
             [
              0.2222222222222222,
              "#7201a8"
             ],
             [
              0.3333333333333333,
              "#9c179e"
             ],
             [
              0.4444444444444444,
              "#bd3786"
             ],
             [
              0.5555555555555556,
              "#d8576b"
             ],
             [
              0.6666666666666666,
              "#ed7953"
             ],
             [
              0.7777777777777778,
              "#fb9f3a"
             ],
             [
              0.8888888888888888,
              "#fdca26"
             ],
             [
              1,
              "#f0f921"
             ]
            ],
            "type": "heatmapgl"
           }
          ],
          "histogram": [
           {
            "marker": {
             "pattern": {
              "fillmode": "overlay",
              "size": 10,
              "solidity": 0.2
             }
            },
            "type": "histogram"
           }
          ],
          "histogram2d": [
           {
            "colorbar": {
             "outlinewidth": 0,
             "ticks": ""
            },
            "colorscale": [
             [
              0,
              "#0d0887"
             ],
             [
              0.1111111111111111,
              "#46039f"
             ],
             [
              0.2222222222222222,
              "#7201a8"
             ],
             [
              0.3333333333333333,
              "#9c179e"
             ],
             [
              0.4444444444444444,
              "#bd3786"
             ],
             [
              0.5555555555555556,
              "#d8576b"
             ],
             [
              0.6666666666666666,
              "#ed7953"
             ],
             [
              0.7777777777777778,
              "#fb9f3a"
             ],
             [
              0.8888888888888888,
              "#fdca26"
             ],
             [
              1,
              "#f0f921"
             ]
            ],
            "type": "histogram2d"
           }
          ],
          "histogram2dcontour": [
           {
            "colorbar": {
             "outlinewidth": 0,
             "ticks": ""
            },
            "colorscale": [
             [
              0,
              "#0d0887"
             ],
             [
              0.1111111111111111,
              "#46039f"
             ],
             [
              0.2222222222222222,
              "#7201a8"
             ],
             [
              0.3333333333333333,
              "#9c179e"
             ],
             [
              0.4444444444444444,
              "#bd3786"
             ],
             [
              0.5555555555555556,
              "#d8576b"
             ],
             [
              0.6666666666666666,
              "#ed7953"
             ],
             [
              0.7777777777777778,
              "#fb9f3a"
             ],
             [
              0.8888888888888888,
              "#fdca26"
             ],
             [
              1,
              "#f0f921"
             ]
            ],
            "type": "histogram2dcontour"
           }
          ],
          "mesh3d": [
           {
            "colorbar": {
             "outlinewidth": 0,
             "ticks": ""
            },
            "type": "mesh3d"
           }
          ],
          "parcoords": [
           {
            "line": {
             "colorbar": {
              "outlinewidth": 0,
              "ticks": ""
             }
            },
            "type": "parcoords"
           }
          ],
          "pie": [
           {
            "automargin": true,
            "type": "pie"
           }
          ],
          "scatter": [
           {
            "fillpattern": {
             "fillmode": "overlay",
             "size": 10,
             "solidity": 0.2
            },
            "type": "scatter"
           }
          ],
          "scatter3d": [
           {
            "line": {
             "colorbar": {
              "outlinewidth": 0,
              "ticks": ""
             }
            },
            "marker": {
             "colorbar": {
              "outlinewidth": 0,
              "ticks": ""
             }
            },
            "type": "scatter3d"
           }
          ],
          "scattercarpet": [
           {
            "marker": {
             "colorbar": {
              "outlinewidth": 0,
              "ticks": ""
             }
            },
            "type": "scattercarpet"
           }
          ],
          "scattergeo": [
           {
            "marker": {
             "colorbar": {
              "outlinewidth": 0,
              "ticks": ""
             }
            },
            "type": "scattergeo"
           }
          ],
          "scattergl": [
           {
            "marker": {
             "colorbar": {
              "outlinewidth": 0,
              "ticks": ""
             }
            },
            "type": "scattergl"
           }
          ],
          "scattermapbox": [
           {
            "marker": {
             "colorbar": {
              "outlinewidth": 0,
              "ticks": ""
             }
            },
            "type": "scattermapbox"
           }
          ],
          "scatterpolar": [
           {
            "marker": {
             "colorbar": {
              "outlinewidth": 0,
              "ticks": ""
             }
            },
            "type": "scatterpolar"
           }
          ],
          "scatterpolargl": [
           {
            "marker": {
             "colorbar": {
              "outlinewidth": 0,
              "ticks": ""
             }
            },
            "type": "scatterpolargl"
           }
          ],
          "scatterternary": [
           {
            "marker": {
             "colorbar": {
              "outlinewidth": 0,
              "ticks": ""
             }
            },
            "type": "scatterternary"
           }
          ],
          "surface": [
           {
            "colorbar": {
             "outlinewidth": 0,
             "ticks": ""
            },
            "colorscale": [
             [
              0,
              "#0d0887"
             ],
             [
              0.1111111111111111,
              "#46039f"
             ],
             [
              0.2222222222222222,
              "#7201a8"
             ],
             [
              0.3333333333333333,
              "#9c179e"
             ],
             [
              0.4444444444444444,
              "#bd3786"
             ],
             [
              0.5555555555555556,
              "#d8576b"
             ],
             [
              0.6666666666666666,
              "#ed7953"
             ],
             [
              0.7777777777777778,
              "#fb9f3a"
             ],
             [
              0.8888888888888888,
              "#fdca26"
             ],
             [
              1,
              "#f0f921"
             ]
            ],
            "type": "surface"
           }
          ],
          "table": [
           {
            "cells": {
             "fill": {
              "color": "#EBF0F8"
             },
             "line": {
              "color": "white"
             }
            },
            "header": {
             "fill": {
              "color": "#C8D4E3"
             },
             "line": {
              "color": "white"
             }
            },
            "type": "table"
           }
          ]
         },
         "layout": {
          "annotationdefaults": {
           "arrowcolor": "#2a3f5f",
           "arrowhead": 0,
           "arrowwidth": 1
          },
          "autotypenumbers": "strict",
          "coloraxis": {
           "colorbar": {
            "outlinewidth": 0,
            "ticks": ""
           }
          },
          "colorscale": {
           "diverging": [
            [
             0,
             "#8e0152"
            ],
            [
             0.1,
             "#c51b7d"
            ],
            [
             0.2,
             "#de77ae"
            ],
            [
             0.3,
             "#f1b6da"
            ],
            [
             0.4,
             "#fde0ef"
            ],
            [
             0.5,
             "#f7f7f7"
            ],
            [
             0.6,
             "#e6f5d0"
            ],
            [
             0.7,
             "#b8e186"
            ],
            [
             0.8,
             "#7fbc41"
            ],
            [
             0.9,
             "#4d9221"
            ],
            [
             1,
             "#276419"
            ]
           ],
           "sequential": [
            [
             0,
             "#0d0887"
            ],
            [
             0.1111111111111111,
             "#46039f"
            ],
            [
             0.2222222222222222,
             "#7201a8"
            ],
            [
             0.3333333333333333,
             "#9c179e"
            ],
            [
             0.4444444444444444,
             "#bd3786"
            ],
            [
             0.5555555555555556,
             "#d8576b"
            ],
            [
             0.6666666666666666,
             "#ed7953"
            ],
            [
             0.7777777777777778,
             "#fb9f3a"
            ],
            [
             0.8888888888888888,
             "#fdca26"
            ],
            [
             1,
             "#f0f921"
            ]
           ],
           "sequentialminus": [
            [
             0,
             "#0d0887"
            ],
            [
             0.1111111111111111,
             "#46039f"
            ],
            [
             0.2222222222222222,
             "#7201a8"
            ],
            [
             0.3333333333333333,
             "#9c179e"
            ],
            [
             0.4444444444444444,
             "#bd3786"
            ],
            [
             0.5555555555555556,
             "#d8576b"
            ],
            [
             0.6666666666666666,
             "#ed7953"
            ],
            [
             0.7777777777777778,
             "#fb9f3a"
            ],
            [
             0.8888888888888888,
             "#fdca26"
            ],
            [
             1,
             "#f0f921"
            ]
           ]
          },
          "colorway": [
           "#636efa",
           "#EF553B",
           "#00cc96",
           "#ab63fa",
           "#FFA15A",
           "#19d3f3",
           "#FF6692",
           "#B6E880",
           "#FF97FF",
           "#FECB52"
          ],
          "font": {
           "color": "#2a3f5f"
          },
          "geo": {
           "bgcolor": "white",
           "lakecolor": "white",
           "landcolor": "#E5ECF6",
           "showlakes": true,
           "showland": true,
           "subunitcolor": "white"
          },
          "hoverlabel": {
           "align": "left"
          },
          "hovermode": "closest",
          "mapbox": {
           "style": "light"
          },
          "paper_bgcolor": "white",
          "plot_bgcolor": "#E5ECF6",
          "polar": {
           "angularaxis": {
            "gridcolor": "white",
            "linecolor": "white",
            "ticks": ""
           },
           "bgcolor": "#E5ECF6",
           "radialaxis": {
            "gridcolor": "white",
            "linecolor": "white",
            "ticks": ""
           }
          },
          "scene": {
           "xaxis": {
            "backgroundcolor": "#E5ECF6",
            "gridcolor": "white",
            "gridwidth": 2,
            "linecolor": "white",
            "showbackground": true,
            "ticks": "",
            "zerolinecolor": "white"
           },
           "yaxis": {
            "backgroundcolor": "#E5ECF6",
            "gridcolor": "white",
            "gridwidth": 2,
            "linecolor": "white",
            "showbackground": true,
            "ticks": "",
            "zerolinecolor": "white"
           },
           "zaxis": {
            "backgroundcolor": "#E5ECF6",
            "gridcolor": "white",
            "gridwidth": 2,
            "linecolor": "white",
            "showbackground": true,
            "ticks": "",
            "zerolinecolor": "white"
           }
          },
          "shapedefaults": {
           "line": {
            "color": "#2a3f5f"
           }
          },
          "ternary": {
           "aaxis": {
            "gridcolor": "white",
            "linecolor": "white",
            "ticks": ""
           },
           "baxis": {
            "gridcolor": "white",
            "linecolor": "white",
            "ticks": ""
           },
           "bgcolor": "#E5ECF6",
           "caxis": {
            "gridcolor": "white",
            "linecolor": "white",
            "ticks": ""
           }
          },
          "title": {
           "x": 0.05
          },
          "xaxis": {
           "automargin": true,
           "gridcolor": "white",
           "linecolor": "white",
           "ticks": "",
           "title": {
            "standoff": 15
           },
           "zerolinecolor": "white",
           "zerolinewidth": 2
          },
          "yaxis": {
           "automargin": true,
           "gridcolor": "white",
           "linecolor": "white",
           "ticks": "",
           "title": {
            "standoff": 15
           },
           "zerolinecolor": "white",
           "zerolinewidth": 2
          }
         }
        },
        "title": {
         "text": "Quarterly GDP value over time (in trillions) [2004-01-01 - 2021-10-01]"
        },
        "width": 1000,
        "xaxis": {
         "title": {
          "text": "Date [Quarters]"
         }
        },
        "yaxis": {
         "title": {
          "text": "GDP"
         }
        }
       }
      }
     },
     "metadata": {},
     "output_type": "display_data"
    }
   ],
   "source": [
    "# Create a new figure\n",
    "fig = go.Figure()\n",
    "\n",
    "# Add a scatter plot to the figure\n",
    "fig.add_trace(go.Scatter(x=gdpts.index,\n",
    "                         y=gdpts['GDP'],\n",
    "                         mode='markers+lines',\n",
    "                         name='GDP',\n",
    "                         marker=dict(color='blue'),\n",
    "                         line=dict(color='blue', width=2),\n",
    "                         showlegend=True,\n",
    "                         hoverlabel=dict(bgcolor='white', font_size=12, font_family='Rockwell'),\n",
    "                         hoverinfo='x+y',\n",
    "                         hovertemplate='Quarter: %{x}<br>GDP: %{y:.2f} trillion USD<br>',\n",
    "                         textposition='top center',\n",
    "                         textfont=dict(family='Rockwell', size=12, color='blue'),\n",
    "                         text='GDP'))\n",
    "\n",
    "# Set the title, x-label, and y-label of the plot\n",
    "fig.update_layout(title=\"Quarterly GDP value over time (in trillions) [2004-01-01 - 2021-10-01]\", \n",
    "                  xaxis_title='Date [Quarters]', \n",
    "                  yaxis_title='GDP', \n",
    "                  autosize=False, \n",
    "                  width=1000,\n",
    "                  height=500,\n",
    "                  margin=dict(l=50, r=50, b=100, t=100, pad=4),\n",
    "                  hoverlabel=dict(bgcolor='white', font_size=12, font_family='Rockwell'),\n",
    "                  hovermode='x unified')\n",
    "\n",
    "# Show the figure\n",
    "fig.show()"
   ]
  },
  {
   "cell_type": "markdown",
   "metadata": {},
   "source": [
    "## Calculate GDP Growth Rate"
   ]
  },
  {
   "cell_type": "code",
   "execution_count": 21,
   "metadata": {},
   "outputs": [
    {
     "data": {
      "text/plain": [
       "(72, 3)"
      ]
     },
     "execution_count": 21,
     "metadata": {},
     "output_type": "execute_result"
    }
   ],
   "source": [
    "# Calculate the GDP growth rate\n",
    "# pct_change: is a pandas function that calculates the percentage change between the current and a prior element.\n",
    "# pct_change = ((current_element - previous_element) / |previous_element|) * 100\n",
    "\n",
    "gdpts['GDP_GrowthRate'] = gdpts['GDP'].pct_change()\n",
    "gdpts.shape"
   ]
  },
  {
   "cell_type": "markdown",
   "metadata": {},
   "source": [
    "## Remove missing values from a DataFrame  \n"
   ]
  },
  {
   "cell_type": "code",
   "execution_count": 22,
   "metadata": {},
   "outputs": [
    {
     "data": {
      "text/plain": [
       "(71, 3)"
      ]
     },
     "execution_count": 22,
     "metadata": {},
     "output_type": "execute_result"
    }
   ],
   "source": [
    "# remove missing values (NaN) from a DataFrame or Series.  \n",
    "gdpts = gdpts.dropna()\n",
    "gdpts.shape"
   ]
  },
  {
   "cell_type": "markdown",
   "metadata": {},
   "source": [
    "## Plot for GDP growth rate  "
   ]
  },
  {
   "cell_type": "code",
   "execution_count": 51,
   "metadata": {},
   "outputs": [
    {
     "data": {
      "application/vnd.plotly.v1+json": {
       "config": {
        "plotlyServerURL": "https://plot.ly"
       },
       "data": [
        {
         "hoverinfo": "x+y",
         "hoverlabel": {
          "bgcolor": "white",
          "font": {
           "family": "Rockwell",
           "size": 12
          }
         },
         "hovertemplate": "Quarter: %{x}<br>GDP: %{y:.2f} trillion USD<br>",
         "line": {
          "color": "blue",
          "width": 2
         },
         "marker": {
          "color": "blue"
         },
         "mode": "markers+lines",
         "name": "GDP GrowthRat",
         "showlegend": true,
         "text": "GDP",
         "textfont": {
          "color": "blue",
          "family": "Rockwell",
          "size": 12
         },
         "textposition": "top center",
         "type": "scatter",
         "x": [
          "2004-04-01T00:00:00",
          "2004-07-01T00:00:00",
          "2004-10-01T00:00:00",
          "2005-01-01T00:00:00",
          "2005-04-01T00:00:00",
          "2005-07-01T00:00:00",
          "2005-10-01T00:00:00",
          "2006-01-01T00:00:00",
          "2006-04-01T00:00:00",
          "2006-07-01T00:00:00",
          "2006-10-01T00:00:00",
          "2007-01-01T00:00:00",
          "2007-04-01T00:00:00",
          "2007-07-01T00:00:00",
          "2007-10-01T00:00:00",
          "2008-01-01T00:00:00",
          "2008-04-01T00:00:00",
          "2008-07-01T00:00:00",
          "2008-10-01T00:00:00",
          "2009-01-01T00:00:00",
          "2009-04-01T00:00:00",
          "2009-07-01T00:00:00",
          "2009-10-01T00:00:00",
          "2010-01-01T00:00:00",
          "2010-04-01T00:00:00",
          "2010-07-01T00:00:00",
          "2010-10-01T00:00:00",
          "2011-01-01T00:00:00",
          "2011-04-01T00:00:00",
          "2011-07-01T00:00:00",
          "2011-10-01T00:00:00",
          "2012-01-01T00:00:00",
          "2012-04-01T00:00:00",
          "2012-07-01T00:00:00",
          "2012-10-01T00:00:00",
          "2013-01-01T00:00:00",
          "2013-04-01T00:00:00",
          "2013-07-01T00:00:00",
          "2013-10-01T00:00:00",
          "2014-01-01T00:00:00",
          "2014-04-01T00:00:00",
          "2014-07-01T00:00:00",
          "2014-10-01T00:00:00",
          "2015-01-01T00:00:00",
          "2015-04-01T00:00:00",
          "2015-07-01T00:00:00",
          "2015-10-01T00:00:00",
          "2016-01-01T00:00:00",
          "2016-04-01T00:00:00",
          "2016-07-01T00:00:00",
          "2016-10-01T00:00:00",
          "2017-01-01T00:00:00",
          "2017-04-01T00:00:00",
          "2017-07-01T00:00:00",
          "2017-10-01T00:00:00",
          "2018-01-01T00:00:00",
          "2018-04-01T00:00:00",
          "2018-07-01T00:00:00",
          "2018-10-01T00:00:00",
          "2019-01-01T00:00:00",
          "2019-04-01T00:00:00",
          "2019-07-01T00:00:00",
          "2019-10-01T00:00:00",
          "2020-01-01T00:00:00",
          "2020-04-01T00:00:00",
          "2020-07-01T00:00:00",
          "2020-10-01T00:00:00",
          "2021-01-01T00:00:00",
          "2021-04-01T00:00:00",
          "2021-07-01T00:00:00",
          "2021-10-01T00:00:00"
         ],
         "y": [
          null,
          0.011804355765646202,
          0.007184265436289472,
          0.003460665950723696,
          0.00725522706973214,
          0.012113748348069553,
          0.009887343220474909,
          0.008109954105903983,
          0.0005164638451535808,
          0.0027924548475910527,
          0.003985982421160106,
          0.006396266435383824,
          0.009689072634921247,
          0.004198545750561999,
          0.0011361704637309344,
          0.0007664056729035362,
          0.003616718971644506,
          0.00820044012459653,
          -0.011595184889871435,
          -0.022596861829076276,
          -0.010912585959344079,
          0.004499385199422168,
          0.011661570238603147,
          0.012063414866229305,
          0.005232609090555673,
          0.007086949217029126,
          0.011175051538353964,
          0.00755347044066168,
          0.0019480651020624684,
          0.013796395617232227,
          0.007875132397062723,
          0.0006408734346419198,
          0.00326163736612628,
          0.0013621710641578133,
          0.002067814699308501,
          0.008970048549569398,
          0.005803571911404237,
          0.008149734023392252,
          0.010505595446846483,
          0.0016344776083956347,
          0.009133291040796854,
          0.009590513077829987,
          0.006919756681081912,
          -0.00549519408066057,
          -0.002721720829944041,
          0.003537018288404248,
          0.0007487737604079392,
          0.005485008399998659,
          -0.0049171172400140906,
          0.010312136821734486,
          0.005614830866419451,
          0.010869195795167874,
          0.010230442126518913,
          0.004218730208403132,
          0.005179906789377853,
          0.00875239280951523,
          0.007851053409017705,
          0.006901225066674455,
          0.0034086954180903017,
          0.0009064085286718537,
          0.009907378290114455,
          0.003266428114410358,
          0.003006837543850782,
          -0.021573026087423397,
          -0.11042537244819617,
          0.08983958376736001,
          0.0219242126106427,
          0.011727808724677269,
          -0.009013491182683908,
          0.013454457697738897,
          0.016272991481926624
         ]
        }
       ],
       "layout": {
        "autosize": false,
        "height": 500,
        "hoverlabel": {
         "bgcolor": "white",
         "font": {
          "family": "Rockwell",
          "size": 12
         }
        },
        "hovermode": "x unified",
        "margin": {
         "b": 100,
         "l": 50,
         "pad": 4,
         "r": 50,
         "t": 100
        },
        "template": {
         "data": {
          "bar": [
           {
            "error_x": {
             "color": "#2a3f5f"
            },
            "error_y": {
             "color": "#2a3f5f"
            },
            "marker": {
             "line": {
              "color": "#E5ECF6",
              "width": 0.5
             },
             "pattern": {
              "fillmode": "overlay",
              "size": 10,
              "solidity": 0.2
             }
            },
            "type": "bar"
           }
          ],
          "barpolar": [
           {
            "marker": {
             "line": {
              "color": "#E5ECF6",
              "width": 0.5
             },
             "pattern": {
              "fillmode": "overlay",
              "size": 10,
              "solidity": 0.2
             }
            },
            "type": "barpolar"
           }
          ],
          "carpet": [
           {
            "aaxis": {
             "endlinecolor": "#2a3f5f",
             "gridcolor": "white",
             "linecolor": "white",
             "minorgridcolor": "white",
             "startlinecolor": "#2a3f5f"
            },
            "baxis": {
             "endlinecolor": "#2a3f5f",
             "gridcolor": "white",
             "linecolor": "white",
             "minorgridcolor": "white",
             "startlinecolor": "#2a3f5f"
            },
            "type": "carpet"
           }
          ],
          "choropleth": [
           {
            "colorbar": {
             "outlinewidth": 0,
             "ticks": ""
            },
            "type": "choropleth"
           }
          ],
          "contour": [
           {
            "colorbar": {
             "outlinewidth": 0,
             "ticks": ""
            },
            "colorscale": [
             [
              0,
              "#0d0887"
             ],
             [
              0.1111111111111111,
              "#46039f"
             ],
             [
              0.2222222222222222,
              "#7201a8"
             ],
             [
              0.3333333333333333,
              "#9c179e"
             ],
             [
              0.4444444444444444,
              "#bd3786"
             ],
             [
              0.5555555555555556,
              "#d8576b"
             ],
             [
              0.6666666666666666,
              "#ed7953"
             ],
             [
              0.7777777777777778,
              "#fb9f3a"
             ],
             [
              0.8888888888888888,
              "#fdca26"
             ],
             [
              1,
              "#f0f921"
             ]
            ],
            "type": "contour"
           }
          ],
          "contourcarpet": [
           {
            "colorbar": {
             "outlinewidth": 0,
             "ticks": ""
            },
            "type": "contourcarpet"
           }
          ],
          "heatmap": [
           {
            "colorbar": {
             "outlinewidth": 0,
             "ticks": ""
            },
            "colorscale": [
             [
              0,
              "#0d0887"
             ],
             [
              0.1111111111111111,
              "#46039f"
             ],
             [
              0.2222222222222222,
              "#7201a8"
             ],
             [
              0.3333333333333333,
              "#9c179e"
             ],
             [
              0.4444444444444444,
              "#bd3786"
             ],
             [
              0.5555555555555556,
              "#d8576b"
             ],
             [
              0.6666666666666666,
              "#ed7953"
             ],
             [
              0.7777777777777778,
              "#fb9f3a"
             ],
             [
              0.8888888888888888,
              "#fdca26"
             ],
             [
              1,
              "#f0f921"
             ]
            ],
            "type": "heatmap"
           }
          ],
          "heatmapgl": [
           {
            "colorbar": {
             "outlinewidth": 0,
             "ticks": ""
            },
            "colorscale": [
             [
              0,
              "#0d0887"
             ],
             [
              0.1111111111111111,
              "#46039f"
             ],
             [
              0.2222222222222222,
              "#7201a8"
             ],
             [
              0.3333333333333333,
              "#9c179e"
             ],
             [
              0.4444444444444444,
              "#bd3786"
             ],
             [
              0.5555555555555556,
              "#d8576b"
             ],
             [
              0.6666666666666666,
              "#ed7953"
             ],
             [
              0.7777777777777778,
              "#fb9f3a"
             ],
             [
              0.8888888888888888,
              "#fdca26"
             ],
             [
              1,
              "#f0f921"
             ]
            ],
            "type": "heatmapgl"
           }
          ],
          "histogram": [
           {
            "marker": {
             "pattern": {
              "fillmode": "overlay",
              "size": 10,
              "solidity": 0.2
             }
            },
            "type": "histogram"
           }
          ],
          "histogram2d": [
           {
            "colorbar": {
             "outlinewidth": 0,
             "ticks": ""
            },
            "colorscale": [
             [
              0,
              "#0d0887"
             ],
             [
              0.1111111111111111,
              "#46039f"
             ],
             [
              0.2222222222222222,
              "#7201a8"
             ],
             [
              0.3333333333333333,
              "#9c179e"
             ],
             [
              0.4444444444444444,
              "#bd3786"
             ],
             [
              0.5555555555555556,
              "#d8576b"
             ],
             [
              0.6666666666666666,
              "#ed7953"
             ],
             [
              0.7777777777777778,
              "#fb9f3a"
             ],
             [
              0.8888888888888888,
              "#fdca26"
             ],
             [
              1,
              "#f0f921"
             ]
            ],
            "type": "histogram2d"
           }
          ],
          "histogram2dcontour": [
           {
            "colorbar": {
             "outlinewidth": 0,
             "ticks": ""
            },
            "colorscale": [
             [
              0,
              "#0d0887"
             ],
             [
              0.1111111111111111,
              "#46039f"
             ],
             [
              0.2222222222222222,
              "#7201a8"
             ],
             [
              0.3333333333333333,
              "#9c179e"
             ],
             [
              0.4444444444444444,
              "#bd3786"
             ],
             [
              0.5555555555555556,
              "#d8576b"
             ],
             [
              0.6666666666666666,
              "#ed7953"
             ],
             [
              0.7777777777777778,
              "#fb9f3a"
             ],
             [
              0.8888888888888888,
              "#fdca26"
             ],
             [
              1,
              "#f0f921"
             ]
            ],
            "type": "histogram2dcontour"
           }
          ],
          "mesh3d": [
           {
            "colorbar": {
             "outlinewidth": 0,
             "ticks": ""
            },
            "type": "mesh3d"
           }
          ],
          "parcoords": [
           {
            "line": {
             "colorbar": {
              "outlinewidth": 0,
              "ticks": ""
             }
            },
            "type": "parcoords"
           }
          ],
          "pie": [
           {
            "automargin": true,
            "type": "pie"
           }
          ],
          "scatter": [
           {
            "fillpattern": {
             "fillmode": "overlay",
             "size": 10,
             "solidity": 0.2
            },
            "type": "scatter"
           }
          ],
          "scatter3d": [
           {
            "line": {
             "colorbar": {
              "outlinewidth": 0,
              "ticks": ""
             }
            },
            "marker": {
             "colorbar": {
              "outlinewidth": 0,
              "ticks": ""
             }
            },
            "type": "scatter3d"
           }
          ],
          "scattercarpet": [
           {
            "marker": {
             "colorbar": {
              "outlinewidth": 0,
              "ticks": ""
             }
            },
            "type": "scattercarpet"
           }
          ],
          "scattergeo": [
           {
            "marker": {
             "colorbar": {
              "outlinewidth": 0,
              "ticks": ""
             }
            },
            "type": "scattergeo"
           }
          ],
          "scattergl": [
           {
            "marker": {
             "colorbar": {
              "outlinewidth": 0,
              "ticks": ""
             }
            },
            "type": "scattergl"
           }
          ],
          "scattermapbox": [
           {
            "marker": {
             "colorbar": {
              "outlinewidth": 0,
              "ticks": ""
             }
            },
            "type": "scattermapbox"
           }
          ],
          "scatterpolar": [
           {
            "marker": {
             "colorbar": {
              "outlinewidth": 0,
              "ticks": ""
             }
            },
            "type": "scatterpolar"
           }
          ],
          "scatterpolargl": [
           {
            "marker": {
             "colorbar": {
              "outlinewidth": 0,
              "ticks": ""
             }
            },
            "type": "scatterpolargl"
           }
          ],
          "scatterternary": [
           {
            "marker": {
             "colorbar": {
              "outlinewidth": 0,
              "ticks": ""
             }
            },
            "type": "scatterternary"
           }
          ],
          "surface": [
           {
            "colorbar": {
             "outlinewidth": 0,
             "ticks": ""
            },
            "colorscale": [
             [
              0,
              "#0d0887"
             ],
             [
              0.1111111111111111,
              "#46039f"
             ],
             [
              0.2222222222222222,
              "#7201a8"
             ],
             [
              0.3333333333333333,
              "#9c179e"
             ],
             [
              0.4444444444444444,
              "#bd3786"
             ],
             [
              0.5555555555555556,
              "#d8576b"
             ],
             [
              0.6666666666666666,
              "#ed7953"
             ],
             [
              0.7777777777777778,
              "#fb9f3a"
             ],
             [
              0.8888888888888888,
              "#fdca26"
             ],
             [
              1,
              "#f0f921"
             ]
            ],
            "type": "surface"
           }
          ],
          "table": [
           {
            "cells": {
             "fill": {
              "color": "#EBF0F8"
             },
             "line": {
              "color": "white"
             }
            },
            "header": {
             "fill": {
              "color": "#C8D4E3"
             },
             "line": {
              "color": "white"
             }
            },
            "type": "table"
           }
          ]
         },
         "layout": {
          "annotationdefaults": {
           "arrowcolor": "#2a3f5f",
           "arrowhead": 0,
           "arrowwidth": 1
          },
          "autotypenumbers": "strict",
          "coloraxis": {
           "colorbar": {
            "outlinewidth": 0,
            "ticks": ""
           }
          },
          "colorscale": {
           "diverging": [
            [
             0,
             "#8e0152"
            ],
            [
             0.1,
             "#c51b7d"
            ],
            [
             0.2,
             "#de77ae"
            ],
            [
             0.3,
             "#f1b6da"
            ],
            [
             0.4,
             "#fde0ef"
            ],
            [
             0.5,
             "#f7f7f7"
            ],
            [
             0.6,
             "#e6f5d0"
            ],
            [
             0.7,
             "#b8e186"
            ],
            [
             0.8,
             "#7fbc41"
            ],
            [
             0.9,
             "#4d9221"
            ],
            [
             1,
             "#276419"
            ]
           ],
           "sequential": [
            [
             0,
             "#0d0887"
            ],
            [
             0.1111111111111111,
             "#46039f"
            ],
            [
             0.2222222222222222,
             "#7201a8"
            ],
            [
             0.3333333333333333,
             "#9c179e"
            ],
            [
             0.4444444444444444,
             "#bd3786"
            ],
            [
             0.5555555555555556,
             "#d8576b"
            ],
            [
             0.6666666666666666,
             "#ed7953"
            ],
            [
             0.7777777777777778,
             "#fb9f3a"
            ],
            [
             0.8888888888888888,
             "#fdca26"
            ],
            [
             1,
             "#f0f921"
            ]
           ],
           "sequentialminus": [
            [
             0,
             "#0d0887"
            ],
            [
             0.1111111111111111,
             "#46039f"
            ],
            [
             0.2222222222222222,
             "#7201a8"
            ],
            [
             0.3333333333333333,
             "#9c179e"
            ],
            [
             0.4444444444444444,
             "#bd3786"
            ],
            [
             0.5555555555555556,
             "#d8576b"
            ],
            [
             0.6666666666666666,
             "#ed7953"
            ],
            [
             0.7777777777777778,
             "#fb9f3a"
            ],
            [
             0.8888888888888888,
             "#fdca26"
            ],
            [
             1,
             "#f0f921"
            ]
           ]
          },
          "colorway": [
           "#636efa",
           "#EF553B",
           "#00cc96",
           "#ab63fa",
           "#FFA15A",
           "#19d3f3",
           "#FF6692",
           "#B6E880",
           "#FF97FF",
           "#FECB52"
          ],
          "font": {
           "color": "#2a3f5f"
          },
          "geo": {
           "bgcolor": "white",
           "lakecolor": "white",
           "landcolor": "#E5ECF6",
           "showlakes": true,
           "showland": true,
           "subunitcolor": "white"
          },
          "hoverlabel": {
           "align": "left"
          },
          "hovermode": "closest",
          "mapbox": {
           "style": "light"
          },
          "paper_bgcolor": "white",
          "plot_bgcolor": "#E5ECF6",
          "polar": {
           "angularaxis": {
            "gridcolor": "white",
            "linecolor": "white",
            "ticks": ""
           },
           "bgcolor": "#E5ECF6",
           "radialaxis": {
            "gridcolor": "white",
            "linecolor": "white",
            "ticks": ""
           }
          },
          "scene": {
           "xaxis": {
            "backgroundcolor": "#E5ECF6",
            "gridcolor": "white",
            "gridwidth": 2,
            "linecolor": "white",
            "showbackground": true,
            "ticks": "",
            "zerolinecolor": "white"
           },
           "yaxis": {
            "backgroundcolor": "#E5ECF6",
            "gridcolor": "white",
            "gridwidth": 2,
            "linecolor": "white",
            "showbackground": true,
            "ticks": "",
            "zerolinecolor": "white"
           },
           "zaxis": {
            "backgroundcolor": "#E5ECF6",
            "gridcolor": "white",
            "gridwidth": 2,
            "linecolor": "white",
            "showbackground": true,
            "ticks": "",
            "zerolinecolor": "white"
           }
          },
          "shapedefaults": {
           "line": {
            "color": "#2a3f5f"
           }
          },
          "ternary": {
           "aaxis": {
            "gridcolor": "white",
            "linecolor": "white",
            "ticks": ""
           },
           "baxis": {
            "gridcolor": "white",
            "linecolor": "white",
            "ticks": ""
           },
           "bgcolor": "#E5ECF6",
           "caxis": {
            "gridcolor": "white",
            "linecolor": "white",
            "ticks": ""
           }
          },
          "title": {
           "x": 0.05
          },
          "xaxis": {
           "automargin": true,
           "gridcolor": "white",
           "linecolor": "white",
           "ticks": "",
           "title": {
            "standoff": 15
           },
           "zerolinecolor": "white",
           "zerolinewidth": 2
          },
          "yaxis": {
           "automargin": true,
           "gridcolor": "white",
           "linecolor": "white",
           "ticks": "",
           "title": {
            "standoff": 15
           },
           "zerolinecolor": "white",
           "zerolinewidth": 2
          }
         }
        },
        "title": {
         "text": "Quarterly GDP value over time (in trillions) [2004-01-01 - 2021-10-01]"
        },
        "width": 1000,
        "xaxis": {
         "title": {
          "text": "Date [Quarters]"
         }
        },
        "yaxis": {
         "title": {
          "text": "GDP Growth Rate [%]"
         }
        }
       }
      }
     },
     "metadata": {},
     "output_type": "display_data"
    }
   ],
   "source": [
    "# Create a new figure\n",
    "fig = go.Figure()\n",
    "\n",
    "# Add a scatter plot to the figure\n",
    "fig.add_trace(go.Scatter(x=gdpts.index,\n",
    "                         y=gdpts['GDP_GrowthRate'],\n",
    "                         mode='markers+lines',\n",
    "                         name='GDP GrowthRat',\n",
    "                         marker=dict(color='blue'),\n",
    "                         line=dict(color='blue', width=2),\n",
    "                         showlegend=True,\n",
    "                         hoverlabel=dict(bgcolor='white', font_size=12, font_family='Rockwell'),\n",
    "                         hoverinfo='x+y',\n",
    "                         hovertemplate='Quarter: %{x}<br>GDP: %{y:.2f} trillion USD<br>',\n",
    "                         textposition='top center',\n",
    "                         textfont=dict(family='Rockwell', size=12, color='blue'),\n",
    "                         text='GDP'))\n",
    "\n",
    "# Set the title, x-label, and y-label of the plot\n",
    "fig.update_layout(title=\"Quarterly GDP value over time (in trillions) [2004-01-01 - 2021-10-01]\", \n",
    "                  xaxis_title='Date [Quarters]', \n",
    "                  yaxis_title='GDP Growth Rate [%]', \n",
    "                  autosize=False, \n",
    "                  width=1000,\n",
    "                  height=500,\n",
    "                  margin=dict(l=50, r=50, b=100, t=100, pad=4),\n",
    "                  hoverlabel=dict(bgcolor='white', font_size=12, font_family='Rockwell'),\n",
    "                  hovermode='x unified')\n",
    "\n",
    "# Show the figure\n",
    "fig.show()"
   ]
  },
  {
   "cell_type": "markdown",
   "metadata": {},
   "source": [
    "## Check for stationarity\n",
    "\n",
    "Stationarity: \n",
    "    - Mean and Standard deviation should be constant and no seasonality \n",
    "\n",
    "How to check Stationarity:\n",
    "\n",
    "    1) Visual \n",
    "\n",
    "    2) Global vs local test \n",
    "\n",
    "    3) Statistical Test: ADF/KPPS Test\n",
    "\n",
    "- Augmented Dickey-Fuller (ADF) test is used to determine whether a given time series is stationary or not.\n",
    "\n",
    "- The test uses an autoregressive model and optimizes an information criterion across multiple different lag values.\n",
    "\n",
    "- A time series is said to be stationary if its statistical properties do not change over time.\n",
    "\n",
    "- In other words, it has constant mean and variance, and covariance is independent of time.\n",
    "\n",
    "\n",
    "- Null Hypothesis (H0): If accepted, it suggests the time series has some time dependent structure (meaning it is non-stationary).\n",
    "\n",
    "- Alternate Hypothesis (H1): The null hypothesis is rejected; meaning it is stationary. It does not have time-dependent structure.\n",
    "\n",
    "\n",
    "- So, if p-value < 0.05, you reject the null hypothesis and infer that the time series is stationary.\n",
    "\n",
    "- The p-value is used in hypothesis testing to help you support or reject the null hypothesis.\n",
    "- It represents the probability that the results of your test occurred at random. \n",
    "\n",
    "- If p-value < 0.05, you reject the null hypothesis. \n",
    "\n",
    "-  if the p-value of the test (obtained via regression) is less than the significance level (0.05 is commonly used), then the null hypothesis is rejected and the time series is considered to be stationary.\n",
    "\n",
    "- If p-value > 0.05, you fail to reject the null hypothesis (accept the null hypothesis). \n",
    "\n",
    "- by setting the autolag='AIC', the adfuller will choose a the number of lags that yields the lowest AIC. \n"
   ]
  },
  {
   "cell_type": "code",
   "execution_count": 23,
   "metadata": {},
   "outputs": [
    {
     "name": "stdout",
     "output_type": "stream",
     "text": [
      "ADF Statistic: -6.520799711623395\n",
      "p-value: 1.0433994367856897e-08\n",
      "The series is stationary.\n"
     ]
    }
   ],
   "source": [
    "# Define the time series\n",
    "timeseries = gdpts['GDP_GrowthRate']\n",
    "\n",
    "# Run the ADF test\n",
    "result = adfuller(timeseries.dropna(), autolag='AIC')\n",
    "\n",
    "# Print the test statistic and the p-value\n",
    "print(f'ADF Statistic: {result[0]}')\n",
    "print(f'p-value: {result[1]}')\n",
    "\n",
    "# Determine if the series is stationary\n",
    "is_stationary = result[1] < 0.05\n",
    "\n",
    "# Print the result\n",
    "if is_stationary:\n",
    "    print(\"The series is stationary.\")\n",
    "else:\n",
    "    print(\"The series is not stationary.\")"
   ]
  },
  {
   "cell_type": "markdown",
   "metadata": {},
   "source": [
    "1) ADF Statistic: value of the test statistic. More negative values indicate stronger evidence against the null hypothesis.\n",
    "\n",
    "2) p-value: A small p-value (typically ≤ 0.05) indicates strong evidence against the null hypothesis\n",
    "\n",
    "3) Number of lags used: is the number of lags used in the regression when performing the ADF test.\n",
    "\n",
    "4) Number of observations used for the ADF regression and calculation of the critical values\n",
    "\n",
    "5) Critical values for the given significance level: If the computed ADF statistic is less than the critical value at a given significance level, we can reject the null hypothesis and infer that the time series is stationary.\n",
    "\n",
    "6)  AIC or BIC\n",
    "\n"
   ]
  },
  {
   "cell_type": "code",
   "execution_count": 24,
   "metadata": {},
   "outputs": [
    {
     "data": {
      "text/html": [
       "<div>\n",
       "<style scoped>\n",
       "    .dataframe tbody tr th:only-of-type {\n",
       "        vertical-align: middle;\n",
       "    }\n",
       "\n",
       "    .dataframe tbody tr th {\n",
       "        vertical-align: top;\n",
       "    }\n",
       "\n",
       "    .dataframe thead th {\n",
       "        text-align: right;\n",
       "    }\n",
       "</style>\n",
       "<table border=\"1\" class=\"dataframe\">\n",
       "  <thead>\n",
       "    <tr style=\"text-align: right;\">\n",
       "      <th></th>\n",
       "      <th>0</th>\n",
       "    </tr>\n",
       "  </thead>\n",
       "  <tbody>\n",
       "    <tr>\n",
       "      <th>Test Statistic</th>\n",
       "      <td>-6.520800e+00</td>\n",
       "    </tr>\n",
       "    <tr>\n",
       "      <th>p-value</th>\n",
       "      <td>1.043399e-08</td>\n",
       "    </tr>\n",
       "    <tr>\n",
       "      <th>No Lags Used</th>\n",
       "      <td>2.000000e+00</td>\n",
       "    </tr>\n",
       "    <tr>\n",
       "      <th>Number of Observations Used</th>\n",
       "      <td>6.800000e+01</td>\n",
       "    </tr>\n",
       "  </tbody>\n",
       "</table>\n",
       "</div>"
      ],
      "text/plain": [
       "                                        0\n",
       "Test Statistic              -6.520800e+00\n",
       "p-value                      1.043399e-08\n",
       "No Lags Used                 2.000000e+00\n",
       "Number of Observations Used  6.800000e+01"
      ]
     },
     "execution_count": 24,
     "metadata": {},
     "output_type": "execute_result"
    }
   ],
   "source": [
    "# Create a Series with the results\n",
    "dfoutput = pd.DataFrame(\n",
    "    result[0:4],\n",
    "    index=[\n",
    "        \"Test Statistic\",\n",
    "        \"p-value\",\n",
    "        \"No Lags Used\",\n",
    "        \"Number of Observations Used\",\n",
    "    ],\n",
    ")\n",
    "\n",
    "dfoutput"
   ]
  },
  {
   "cell_type": "markdown",
   "metadata": {},
   "source": [
    "In this case, \n",
    " - the ADF statistic is less than the critical values, \n",
    " -  the p-value is less than 0.05, so the null hypothesis is rejected and conclude that the time series is stationary."
   ]
  },
  {
   "cell_type": "markdown",
   "metadata": {},
   "source": [
    "### Kwiatkowski-Phillips-Schmidt-Shin test (KPSS):\n",
    "\n",
    "- The KPSS test has the null hypothesis opposite to that of the ADF test. \n",
    "\n",
    "- Null Hypothesis (H0): The process is trend stationary.\n",
    "\n",
    "- Alternate Hypothesis (H1): The series has a unit root (series is not stationary).\n",
    "\n",
    "- A trend stationary process is one where the statistical properties (like the mean and variance) are constant over time, but there could be a trend (like an increase or decrease) over time.\n",
    "\n",
    "-  both tests might be used together to confirm whether a series is truly stationary. If both tests conclude that the series is stationary, you can be fairly confident in your result. If the tests disagree, the series is likely to be difference stationary (meaning it can be made stationary by differencing the series a number of times).\n",
    "\n",
    "- regression='c' option means that the test includes a constant (or an intercept) in the regression. \n",
    "\n",
    "- Other possible options for the regression parameter are:\n",
    "\n",
    "    - 'nc': No constant or trend (also known as a test for a pure random walk).\n",
    "    - 'ct': Constant and trend.\n",
    "    - 'ctt': Constant, linear and quadratic trend."
   ]
  },
  {
   "cell_type": "code",
   "execution_count": 78,
   "metadata": {},
   "outputs": [
    {
     "name": "stdout",
     "output_type": "stream",
     "text": [
      "KPSS Statistic: 0.06498707448040039\n",
      "p-value: 0.1\n",
      "The series is stationary.\n"
     ]
    }
   ],
   "source": [
    "# Define the time series\n",
    "timeseries = gdpts['GDP_GrowthRate']\n",
    "\n",
    "# Run the KPSS test\n",
    "result = kpss(timeseries.dropna(), regression='c', nlags='auto')\n",
    "\n",
    "# Print the test statistic and the p-value\n",
    "print(f'KPSS Statistic: {result[0]}')\n",
    "print(f'p-value: {result[1]}')\n",
    "\n",
    "# Determine if the series is stationary\n",
    "is_stationary = result[1] > 0.05\n",
    "\n",
    "# Print the result\n",
    "if is_stationary:\n",
    "    print(\"The series is stationary.\")\n",
    "else:\n",
    "    print(\"The series is not stationary.\")"
   ]
  },
  {
   "cell_type": "markdown",
   "metadata": {},
   "source": [
    "## Make both test at once "
   ]
  },
  {
   "cell_type": "code",
   "execution_count": 82,
   "metadata": {},
   "outputs": [
    {
     "name": "stdout",
     "output_type": "stream",
     "text": [
      "Series 'Date' is stationary.\n",
      "Series 'GDP' is stationary.\n",
      "Series 'GDP_GrowthRate' is stationary.\n"
     ]
    }
   ],
   "source": [
    "# Define the DataFrame\n",
    "dataframe = gdpts  \n",
    "\n",
    "# Iterate over each series in the DataFrame\n",
    "for column in dataframe:\n",
    "    timeseries = dataframe[column].dropna()\n",
    "\n",
    "    # Run the ADF test\n",
    "    adf_result = adfuller(timeseries, autolag='AIC')\n",
    "    adf_is_stationary = adf_result[1] < 0.05\n",
    "\n",
    "    # Run the KPSS test\n",
    "    kpss_result = kpss(timeseries, regression='c', nlags='auto')\n",
    "    kpss_is_stationary = kpss_result[1] > 0.05\n",
    "\n",
    "    # Print the result\n",
    "    if adf_is_stationary and kpss_is_stationary:\n",
    "        print(f\"Series '{column}' is stationary.\")\n",
    "    elif not adf_is_stationary and not kpss_is_stationary:\n",
    "        print(f\"Series '{column}' is not stationary.\")\n",
    "    elif adf_is_stationary and not kpss_is_stationary:\n",
    "        print(f\"Series '{column}' is not stationary, differencing can be used to make it stationary.\")\n",
    "    elif not adf_is_stationary and kpss_is_stationary:\n",
    "        print(f\"Series '{column}' is trend stationary, trend needs to be removed.\")"
   ]
  },
  {
   "cell_type": "markdown",
   "metadata": {},
   "source": [
    "### To make a non-stationary time series stationary:\n",
    "\n",
    "- **Differencing**: This involves subtracting the previous observation from the current observation. Differencing can help stabilize the mean of a time series by removing changes in the level of a time series, and so eliminating (or reducing) trend and seasonality.\n",
    "\n",
    "- **Seasonal Differencing**: This is a method where the observation from the same season in the previous cycle are subtracted from the current value. This method is useful when the time series is seasonal.\n",
    "\n",
    "- **Transformation**: Transformations such as logarithm, square root, cube root, etc. can help to stabilize the variance of a time series. Log transformation is a commonly used technique which can help to reduce positive skewness.\n",
    "\n",
    "- **Decomposition**: In this approach, both trend and seasonality are modeled separately and the remaining part of the series is returned.\n",
    "\n",
    "- **Moving Average**: If a time series has a lot of noise, smoothing the time series could help to identify the underlying trend and seasonality. One way to smooth a time series is by taking a moving average, which means that for each time point, you take the average of the points on either side of it.\n",
    "\n"
   ]
  }
 ],
 "metadata": {
  "kernelspec": {
   "display_name": "google_trend",
   "language": "python",
   "name": "python3"
  },
  "language_info": {
   "codemirror_mode": {
    "name": "ipython",
    "version": 3
   },
   "file_extension": ".py",
   "mimetype": "text/x-python",
   "name": "python",
   "nbconvert_exporter": "python",
   "pygments_lexer": "ipython3",
   "version": "3.10.11"
  }
 },
 "nbformat": 4,
 "nbformat_minor": 2
}
