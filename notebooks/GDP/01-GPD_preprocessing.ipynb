{
 "cells": [
  {
   "cell_type": "markdown",
   "metadata": {},
   "source": [
    "# GDP Data Reading, Cleaning, & Preprocessing"
   ]
  },
  {
   "cell_type": "code",
   "execution_count": 1,
   "metadata": {},
   "outputs": [],
   "source": [
    "# Importing modules/libraries\n",
    "\n",
    "import pandas as pd\n",
    "\n",
    "import plotly.graph_objects as go\n",
    "from statsmodels.tsa.stattools import adfuller, kpss\n",
    "\n",
    "import warnings\n",
    "warnings.filterwarnings(\"ignore\")"
   ]
  },
  {
   "cell_type": "markdown",
   "metadata": {},
   "source": [
    "## Load and Read the GDP data"
   ]
  },
  {
   "cell_type": "code",
   "execution_count": 13,
   "metadata": {},
   "outputs": [
    {
     "data": {
      "text/html": [
       "<div>\n",
       "<style scoped>\n",
       "    .dataframe tbody tr th:only-of-type {\n",
       "        vertical-align: middle;\n",
       "    }\n",
       "\n",
       "    .dataframe tbody tr th {\n",
       "        vertical-align: top;\n",
       "    }\n",
       "\n",
       "    .dataframe thead th {\n",
       "        text-align: right;\n",
       "    }\n",
       "</style>\n",
       "<table border=\"1\" class=\"dataframe\">\n",
       "  <thead>\n",
       "    <tr style=\"text-align: right;\">\n",
       "      <th></th>\n",
       "      <th>DATE</th>\n",
       "      <th>NGDPRSAXDCZAQ</th>\n",
       "    </tr>\n",
       "  </thead>\n",
       "  <tbody>\n",
       "    <tr>\n",
       "      <th>0</th>\n",
       "      <td>2004-01-01</td>\n",
       "      <td>793035.1</td>\n",
       "    </tr>\n",
       "    <tr>\n",
       "      <th>1</th>\n",
       "      <td>2004-04-01</td>\n",
       "      <td>804117.4</td>\n",
       "    </tr>\n",
       "    <tr>\n",
       "      <th>2</th>\n",
       "      <td>2004-07-01</td>\n",
       "      <td>817265.7</td>\n",
       "    </tr>\n",
       "    <tr>\n",
       "      <th>3</th>\n",
       "      <td>2004-10-01</td>\n",
       "      <td>825993.5</td>\n",
       "    </tr>\n",
       "    <tr>\n",
       "      <th>4</th>\n",
       "      <td>2005-01-01</td>\n",
       "      <td>834390.5</td>\n",
       "    </tr>\n",
       "  </tbody>\n",
       "</table>\n",
       "</div>"
      ],
      "text/plain": [
       "         DATE  NGDPRSAXDCZAQ\n",
       "0  2004-01-01       793035.1\n",
       "1  2004-04-01       804117.4\n",
       "2  2004-07-01       817265.7\n",
       "3  2004-10-01       825993.5\n",
       "4  2005-01-01       834390.5"
      ]
     },
     "execution_count": 13,
     "metadata": {},
     "output_type": "execute_result"
    }
   ],
   "source": [
    "# Load the data\n",
    "gdp_data_path = 'data/GDP_Data/ZA_GDP.csv'\n",
    "# Read the data\n",
    "gdp_data = pd.read_csv(gdp_data_path)\n",
    "# Display the first few rows of the data\n",
    "gdp_data.head()"
   ]
  },
  {
   "cell_type": "markdown",
   "metadata": {},
   "source": [
    "## Checking the column names"
   ]
  },
  {
   "cell_type": "code",
   "execution_count": 14,
   "metadata": {},
   "outputs": [
    {
     "data": {
      "text/plain": [
       "Index(['DATE', 'NGDPRSAXDCZAQ'], dtype='object')"
      ]
     },
     "execution_count": 14,
     "metadata": {},
     "output_type": "execute_result"
    }
   ],
   "source": [
    "gdp_data.columns"
   ]
  },
  {
   "cell_type": "markdown",
   "metadata": {},
   "source": [
    "## List data types of each column"
   ]
  },
  {
   "cell_type": "code",
   "execution_count": 15,
   "metadata": {},
   "outputs": [
    {
     "data": {
      "text/plain": [
       "DATE              object\n",
       "NGDPRSAXDCZAQ    float64\n",
       "dtype: object"
      ]
     },
     "execution_count": 15,
     "metadata": {},
     "output_type": "execute_result"
    }
   ],
   "source": [
    "gdp_data.dtypes"
   ]
  },
  {
   "cell_type": "markdown",
   "metadata": {},
   "source": [
    "## Select the date and GDP column"
   ]
  },
  {
   "cell_type": "code",
   "execution_count": 16,
   "metadata": {},
   "outputs": [
    {
     "data": {
      "text/html": [
       "<div>\n",
       "<style scoped>\n",
       "    .dataframe tbody tr th:only-of-type {\n",
       "        vertical-align: middle;\n",
       "    }\n",
       "\n",
       "    .dataframe tbody tr th {\n",
       "        vertical-align: top;\n",
       "    }\n",
       "\n",
       "    .dataframe thead th {\n",
       "        text-align: right;\n",
       "    }\n",
       "</style>\n",
       "<table border=\"1\" class=\"dataframe\">\n",
       "  <thead>\n",
       "    <tr style=\"text-align: right;\">\n",
       "      <th></th>\n",
       "      <th>DATE</th>\n",
       "      <th>NGDPRSAXDCZAQ</th>\n",
       "    </tr>\n",
       "  </thead>\n",
       "  <tbody>\n",
       "    <tr>\n",
       "      <th>0</th>\n",
       "      <td>2004-01-01</td>\n",
       "      <td>793035.1</td>\n",
       "    </tr>\n",
       "    <tr>\n",
       "      <th>1</th>\n",
       "      <td>2004-04-01</td>\n",
       "      <td>804117.4</td>\n",
       "    </tr>\n",
       "    <tr>\n",
       "      <th>2</th>\n",
       "      <td>2004-07-01</td>\n",
       "      <td>817265.7</td>\n",
       "    </tr>\n",
       "    <tr>\n",
       "      <th>3</th>\n",
       "      <td>2004-10-01</td>\n",
       "      <td>825993.5</td>\n",
       "    </tr>\n",
       "    <tr>\n",
       "      <th>4</th>\n",
       "      <td>2005-01-01</td>\n",
       "      <td>834390.5</td>\n",
       "    </tr>\n",
       "  </tbody>\n",
       "</table>\n",
       "</div>"
      ],
      "text/plain": [
       "         DATE  NGDPRSAXDCZAQ\n",
       "0  2004-01-01       793035.1\n",
       "1  2004-04-01       804117.4\n",
       "2  2004-07-01       817265.7\n",
       "3  2004-10-01       825993.5\n",
       "4  2005-01-01       834390.5"
      ]
     },
     "execution_count": 16,
     "metadata": {},
     "output_type": "execute_result"
    }
   ],
   "source": [
    "gdpts = gdp_data[['DATE', 'NGDPRSAXDCZAQ']]\n",
    "gdpts.head()"
   ]
  },
  {
   "cell_type": "markdown",
   "metadata": {},
   "source": [
    "## Checking missing values in the dataframes"
   ]
  },
  {
   "cell_type": "code",
   "execution_count": 17,
   "metadata": {},
   "outputs": [
    {
     "data": {
      "text/plain": [
       "DATE             0.0\n",
       "NGDPRSAXDCZAQ    0.0\n",
       "dtype: float64"
      ]
     },
     "execution_count": 17,
     "metadata": {},
     "output_type": "execute_result"
    }
   ],
   "source": [
    "# calculate the percentage of missing values in the dataframes\n",
    "missing_values = gdpts.isnull().mean() * 100\n",
    "missing_values"
   ]
  },
  {
   "cell_type": "markdown",
   "metadata": {},
   "source": [
    "## Remove missing values from a DataFrame  "
   ]
  },
  {
   "cell_type": "code",
   "execution_count": 18,
   "metadata": {},
   "outputs": [
    {
     "data": {
      "text/plain": [
       "(79, 2)"
      ]
     },
     "execution_count": 18,
     "metadata": {},
     "output_type": "execute_result"
    }
   ],
   "source": [
    "# remove missing values (NaN) from a DataFrame or Series.  \n",
    "gdpts = gdpts.dropna()\n",
    "gdpts.shape"
   ]
  },
  {
   "cell_type": "code",
   "execution_count": 19,
   "metadata": {},
   "outputs": [
    {
     "data": {
      "text/html": [
       "<div>\n",
       "<style scoped>\n",
       "    .dataframe tbody tr th:only-of-type {\n",
       "        vertical-align: middle;\n",
       "    }\n",
       "\n",
       "    .dataframe tbody tr th {\n",
       "        vertical-align: top;\n",
       "    }\n",
       "\n",
       "    .dataframe thead th {\n",
       "        text-align: right;\n",
       "    }\n",
       "</style>\n",
       "<table border=\"1\" class=\"dataframe\">\n",
       "  <thead>\n",
       "    <tr style=\"text-align: right;\">\n",
       "      <th></th>\n",
       "      <th>DATE</th>\n",
       "      <th>NGDPRSAXDCZAQ</th>\n",
       "      <th>Date</th>\n",
       "    </tr>\n",
       "  </thead>\n",
       "  <tbody>\n",
       "    <tr>\n",
       "      <th>0</th>\n",
       "      <td>2004-01-01</td>\n",
       "      <td>793035.1</td>\n",
       "      <td>2004-03</td>\n",
       "    </tr>\n",
       "    <tr>\n",
       "      <th>1</th>\n",
       "      <td>2004-04-01</td>\n",
       "      <td>804117.4</td>\n",
       "      <td>2004-06</td>\n",
       "    </tr>\n",
       "    <tr>\n",
       "      <th>2</th>\n",
       "      <td>2004-07-01</td>\n",
       "      <td>817265.7</td>\n",
       "      <td>2004-09</td>\n",
       "    </tr>\n",
       "    <tr>\n",
       "      <th>3</th>\n",
       "      <td>2004-10-01</td>\n",
       "      <td>825993.5</td>\n",
       "      <td>2004-12</td>\n",
       "    </tr>\n",
       "    <tr>\n",
       "      <th>4</th>\n",
       "      <td>2005-01-01</td>\n",
       "      <td>834390.5</td>\n",
       "      <td>2005-03</td>\n",
       "    </tr>\n",
       "  </tbody>\n",
       "</table>\n",
       "</div>"
      ],
      "text/plain": [
       "         DATE  NGDPRSAXDCZAQ     Date\n",
       "0  2004-01-01       793035.1  2004-03\n",
       "1  2004-04-01       804117.4  2004-06\n",
       "2  2004-07-01       817265.7  2004-09\n",
       "3  2004-10-01       825993.5  2004-12\n",
       "4  2005-01-01       834390.5  2005-03"
      ]
     },
     "execution_count": 19,
     "metadata": {},
     "output_type": "execute_result"
    }
   ],
   "source": [
    "# Create a date range from 2004-01 to the end of the DataFrame, with a quarterly frequency\n",
    "date_range = pd.date_range(start='2004-01', periods=len(gdpts), freq='Q')\n",
    "\n",
    "# Convert the date range to the desired format (YYYY-MM)\n",
    "formatted_dates = date_range.strftime('%Y-%m')\n",
    "\n",
    "# Add the formatted dates as a new column in the DataFrame\n",
    "gdpts['Date'] = formatted_dates\n",
    "\n",
    "# Display the first few rows of the DataFrame\n",
    "gdpts.head()"
   ]
  },
  {
   "cell_type": "code",
   "execution_count": 21,
   "metadata": {},
   "outputs": [
    {
     "data": {
      "text/html": [
       "<div>\n",
       "<style scoped>\n",
       "    .dataframe tbody tr th:only-of-type {\n",
       "        vertical-align: middle;\n",
       "    }\n",
       "\n",
       "    .dataframe tbody tr th {\n",
       "        vertical-align: top;\n",
       "    }\n",
       "\n",
       "    .dataframe thead th {\n",
       "        text-align: right;\n",
       "    }\n",
       "</style>\n",
       "<table border=\"1\" class=\"dataframe\">\n",
       "  <thead>\n",
       "    <tr style=\"text-align: right;\">\n",
       "      <th></th>\n",
       "      <th>DATE</th>\n",
       "      <th>NGDPRSAXDCZAQ</th>\n",
       "      <th>Date</th>\n",
       "    </tr>\n",
       "    <tr>\n",
       "      <th>Date</th>\n",
       "      <th></th>\n",
       "      <th></th>\n",
       "      <th></th>\n",
       "    </tr>\n",
       "  </thead>\n",
       "  <tbody>\n",
       "    <tr>\n",
       "      <th>2004-03</th>\n",
       "      <td>2004-01-01</td>\n",
       "      <td>793035.1</td>\n",
       "      <td>2004-03</td>\n",
       "    </tr>\n",
       "    <tr>\n",
       "      <th>2004-06</th>\n",
       "      <td>2004-04-01</td>\n",
       "      <td>804117.4</td>\n",
       "      <td>2004-06</td>\n",
       "    </tr>\n",
       "    <tr>\n",
       "      <th>2004-09</th>\n",
       "      <td>2004-07-01</td>\n",
       "      <td>817265.7</td>\n",
       "      <td>2004-09</td>\n",
       "    </tr>\n",
       "    <tr>\n",
       "      <th>2004-12</th>\n",
       "      <td>2004-10-01</td>\n",
       "      <td>825993.5</td>\n",
       "      <td>2004-12</td>\n",
       "    </tr>\n",
       "    <tr>\n",
       "      <th>2005-03</th>\n",
       "      <td>2005-01-01</td>\n",
       "      <td>834390.5</td>\n",
       "      <td>2005-03</td>\n",
       "    </tr>\n",
       "  </tbody>\n",
       "</table>\n",
       "</div>"
      ],
      "text/plain": [
       "               DATE  NGDPRSAXDCZAQ     Date\n",
       "Date                                       \n",
       "2004-03  2004-01-01       793035.1  2004-03\n",
       "2004-06  2004-04-01       804117.4  2004-06\n",
       "2004-09  2004-07-01       817265.7  2004-09\n",
       "2004-12  2004-10-01       825993.5  2004-12\n",
       "2005-03  2005-01-01       834390.5  2005-03"
      ]
     },
     "execution_count": 21,
     "metadata": {},
     "output_type": "execute_result"
    }
   ],
   "source": [
    "gdpts.index = gdpts['Date']\n",
    "gdpts.head()"
   ]
  },
  {
   "cell_type": "code",
   "execution_count": 22,
   "metadata": {},
   "outputs": [
    {
     "data": {
      "text/html": [
       "<div>\n",
       "<style scoped>\n",
       "    .dataframe tbody tr th:only-of-type {\n",
       "        vertical-align: middle;\n",
       "    }\n",
       "\n",
       "    .dataframe tbody tr th {\n",
       "        vertical-align: top;\n",
       "    }\n",
       "\n",
       "    .dataframe thead th {\n",
       "        text-align: right;\n",
       "    }\n",
       "</style>\n",
       "<table border=\"1\" class=\"dataframe\">\n",
       "  <thead>\n",
       "    <tr style=\"text-align: right;\">\n",
       "      <th></th>\n",
       "      <th>NGDPRSAXDCZAQ</th>\n",
       "    </tr>\n",
       "    <tr>\n",
       "      <th>Date</th>\n",
       "      <th></th>\n",
       "    </tr>\n",
       "  </thead>\n",
       "  <tbody>\n",
       "    <tr>\n",
       "      <th>2004-03</th>\n",
       "      <td>793035.1</td>\n",
       "    </tr>\n",
       "    <tr>\n",
       "      <th>2004-06</th>\n",
       "      <td>804117.4</td>\n",
       "    </tr>\n",
       "    <tr>\n",
       "      <th>2004-09</th>\n",
       "      <td>817265.7</td>\n",
       "    </tr>\n",
       "    <tr>\n",
       "      <th>2004-12</th>\n",
       "      <td>825993.5</td>\n",
       "    </tr>\n",
       "    <tr>\n",
       "      <th>2005-03</th>\n",
       "      <td>834390.5</td>\n",
       "    </tr>\n",
       "  </tbody>\n",
       "</table>\n",
       "</div>"
      ],
      "text/plain": [
       "         NGDPRSAXDCZAQ\n",
       "Date                  \n",
       "2004-03       793035.1\n",
       "2004-06       804117.4\n",
       "2004-09       817265.7\n",
       "2004-12       825993.5\n",
       "2005-03       834390.5"
      ]
     },
     "execution_count": 22,
     "metadata": {},
     "output_type": "execute_result"
    }
   ],
   "source": [
    "# drop the Date column\n",
    "gdpts = gdpts.drop(columns = ['Date', 'DATE'])\n",
    "gdpts.head()"
   ]
  },
  {
   "cell_type": "markdown",
   "metadata": {},
   "source": [
    "## Rename columns"
   ]
  },
  {
   "cell_type": "code",
   "execution_count": 23,
   "metadata": {},
   "outputs": [
    {
     "data": {
      "text/html": [
       "<div>\n",
       "<style scoped>\n",
       "    .dataframe tbody tr th:only-of-type {\n",
       "        vertical-align: middle;\n",
       "    }\n",
       "\n",
       "    .dataframe tbody tr th {\n",
       "        vertical-align: top;\n",
       "    }\n",
       "\n",
       "    .dataframe thead th {\n",
       "        text-align: right;\n",
       "    }\n",
       "</style>\n",
       "<table border=\"1\" class=\"dataframe\">\n",
       "  <thead>\n",
       "    <tr style=\"text-align: right;\">\n",
       "      <th></th>\n",
       "      <th>GDP</th>\n",
       "    </tr>\n",
       "    <tr>\n",
       "      <th>Date</th>\n",
       "      <th></th>\n",
       "    </tr>\n",
       "  </thead>\n",
       "  <tbody>\n",
       "    <tr>\n",
       "      <th>2004-03</th>\n",
       "      <td>793035.1</td>\n",
       "    </tr>\n",
       "    <tr>\n",
       "      <th>2004-06</th>\n",
       "      <td>804117.4</td>\n",
       "    </tr>\n",
       "    <tr>\n",
       "      <th>2004-09</th>\n",
       "      <td>817265.7</td>\n",
       "    </tr>\n",
       "    <tr>\n",
       "      <th>2004-12</th>\n",
       "      <td>825993.5</td>\n",
       "    </tr>\n",
       "    <tr>\n",
       "      <th>2005-03</th>\n",
       "      <td>834390.5</td>\n",
       "    </tr>\n",
       "  </tbody>\n",
       "</table>\n",
       "</div>"
      ],
      "text/plain": [
       "              GDP\n",
       "Date             \n",
       "2004-03  793035.1\n",
       "2004-06  804117.4\n",
       "2004-09  817265.7\n",
       "2004-12  825993.5\n",
       "2005-03  834390.5"
      ]
     },
     "execution_count": 23,
     "metadata": {},
     "output_type": "execute_result"
    }
   ],
   "source": [
    "# rename columns\n",
    "gdpts = gdpts.rename(columns = {'NGDPRSAXDCZAQ': 'GDP'})\n",
    "gdpts.head()"
   ]
  },
  {
   "cell_type": "markdown",
   "metadata": {},
   "source": [
    "## Create a copy of the original data"
   ]
  },
  {
   "cell_type": "code",
   "execution_count": 24,
   "metadata": {},
   "outputs": [
    {
     "data": {
      "text/html": [
       "<div>\n",
       "<style scoped>\n",
       "    .dataframe tbody tr th:only-of-type {\n",
       "        vertical-align: middle;\n",
       "    }\n",
       "\n",
       "    .dataframe tbody tr th {\n",
       "        vertical-align: top;\n",
       "    }\n",
       "\n",
       "    .dataframe thead th {\n",
       "        text-align: right;\n",
       "    }\n",
       "</style>\n",
       "<table border=\"1\" class=\"dataframe\">\n",
       "  <thead>\n",
       "    <tr style=\"text-align: right;\">\n",
       "      <th></th>\n",
       "      <th>GDP</th>\n",
       "    </tr>\n",
       "    <tr>\n",
       "      <th>Date</th>\n",
       "      <th></th>\n",
       "    </tr>\n",
       "  </thead>\n",
       "  <tbody>\n",
       "    <tr>\n",
       "      <th>2022-09</th>\n",
       "      <td>1160699.9</td>\n",
       "    </tr>\n",
       "    <tr>\n",
       "      <th>2022-12</th>\n",
       "      <td>1148001.1</td>\n",
       "    </tr>\n",
       "    <tr>\n",
       "      <th>2023-03</th>\n",
       "      <td>1152669.1</td>\n",
       "    </tr>\n",
       "    <tr>\n",
       "      <th>2023-06</th>\n",
       "      <td>1157940.6</td>\n",
       "    </tr>\n",
       "    <tr>\n",
       "      <th>2023-09</th>\n",
       "      <td>1155074.2</td>\n",
       "    </tr>\n",
       "  </tbody>\n",
       "</table>\n",
       "</div>"
      ],
      "text/plain": [
       "               GDP\n",
       "Date              \n",
       "2022-09  1160699.9\n",
       "2022-12  1148001.1\n",
       "2023-03  1152669.1\n",
       "2023-06  1157940.6\n",
       "2023-09  1155074.2"
      ]
     },
     "execution_count": 24,
     "metadata": {},
     "output_type": "execute_result"
    }
   ],
   "source": [
    "# Create a copy of the original data\n",
    "gdp_original = gdpts.copy()\n",
    "gdpts.tail()"
   ]
  },
  {
   "cell_type": "markdown",
   "metadata": {},
   "source": [
    "## Plot for GDP"
   ]
  },
  {
   "cell_type": "code",
   "execution_count": 31,
   "metadata": {},
   "outputs": [
    {
     "data": {
      "application/vnd.plotly.v1+json": {
       "config": {
        "plotlyServerURL": "https://plot.ly"
       },
       "data": [
        {
         "hoverinfo": "x+y",
         "hoverlabel": {
          "bgcolor": "white",
          "font": {
           "family": "Rockwell",
           "size": 12
          }
         },
         "line": {
          "color": "blue",
          "width": 2
         },
         "marker": {
          "color": "blue"
         },
         "mode": "markers+lines",
         "name": "GDP",
         "showlegend": true,
         "text": "GDP",
         "textfont": {
          "color": "blue",
          "family": "Rockwell",
          "size": 12
         },
         "textposition": "top center",
         "type": "scatter",
         "x": [
          "2004-03",
          "2004-06",
          "2004-09",
          "2004-12",
          "2005-03",
          "2005-06",
          "2005-09",
          "2005-12",
          "2006-03",
          "2006-06",
          "2006-09",
          "2006-12",
          "2007-03",
          "2007-06",
          "2007-09",
          "2007-12",
          "2008-03",
          "2008-06",
          "2008-09",
          "2008-12",
          "2009-03",
          "2009-06",
          "2009-09",
          "2009-12",
          "2010-03",
          "2010-06",
          "2010-09",
          "2010-12",
          "2011-03",
          "2011-06",
          "2011-09",
          "2011-12",
          "2012-03",
          "2012-06",
          "2012-09",
          "2012-12",
          "2013-03",
          "2013-06",
          "2013-09",
          "2013-12",
          "2014-03",
          "2014-06",
          "2014-09",
          "2014-12",
          "2015-03",
          "2015-06",
          "2015-09",
          "2015-12",
          "2016-03",
          "2016-06",
          "2016-09",
          "2016-12",
          "2017-03",
          "2017-06",
          "2017-09",
          "2017-12",
          "2018-03",
          "2018-06",
          "2018-09",
          "2018-12",
          "2019-03",
          "2019-06",
          "2019-09",
          "2019-12",
          "2020-03",
          "2020-06",
          "2020-09",
          "2020-12",
          "2021-03",
          "2021-06",
          "2021-09",
          "2021-12",
          "2022-03",
          "2022-06",
          "2022-09",
          "2022-12",
          "2023-03",
          "2023-06",
          "2023-09"
         ],
         "y": [
          793035.1,
          804117.4,
          817265.7,
          825993.5,
          834390.5,
          849364.1,
          860946.2,
          866709,
          881938.5,
          894464.2,
          906818.1,
          919357.8,
          934285.1,
          941942.1,
          952981.1,
          966485.6,
          970544.9,
          982394.1,
          984741.4,
          979135.8,
          963904.9,
          960596.7,
          962824.4,
          969246.1,
          980554.6,
          988785.5,
          997588.1,
          1006873.5,
          1016789.2,
          1022479.8,
          1026710.6,
          1033734.2,
          1039593.8,
          1048271.7,
          1052533.5,
          1057553.5,
          1065760.3,
          1073512.5,
          1078605.8,
          1084412.5,
          1082916.7,
          1087190.7,
          1092415.5,
          1100595.2,
          1108545.4,
          1099186.4,
          1104137.4,
          1108923.4,
          1111572.2,
          1112641.7,
          1112506.2,
          1113450.8,
          1118707.7,
          1124808.1,
          1126876.6,
          1131309.2,
          1137294.2,
          1134466.2,
          1148418.1,
          1151604.9,
          1141546.4,
          1146708.6,
          1147913.9,
          1147498.2,
          1150205.5,
          955936.5,
          1087187,
          1116997.6,
          1124160.2,
          1138750.3,
          1117395.8,
          1132737.6,
          1150092,
          1140468.4,
          1160699.9,
          1148001.1,
          1152669.1,
          1157940.6,
          1155074.2
         ]
        }
       ],
       "layout": {
        "autosize": false,
        "height": 500,
        "hoverlabel": {
         "bgcolor": "white",
         "font": {
          "family": "Rockwell",
          "size": 12
         }
        },
        "hovermode": "x unified",
        "margin": {
         "b": 100,
         "l": 50,
         "pad": 4,
         "r": 50,
         "t": 100
        },
        "template": {
         "data": {
          "bar": [
           {
            "error_x": {
             "color": "#2a3f5f"
            },
            "error_y": {
             "color": "#2a3f5f"
            },
            "marker": {
             "line": {
              "color": "#E5ECF6",
              "width": 0.5
             },
             "pattern": {
              "fillmode": "overlay",
              "size": 10,
              "solidity": 0.2
             }
            },
            "type": "bar"
           }
          ],
          "barpolar": [
           {
            "marker": {
             "line": {
              "color": "#E5ECF6",
              "width": 0.5
             },
             "pattern": {
              "fillmode": "overlay",
              "size": 10,
              "solidity": 0.2
             }
            },
            "type": "barpolar"
           }
          ],
          "carpet": [
           {
            "aaxis": {
             "endlinecolor": "#2a3f5f",
             "gridcolor": "white",
             "linecolor": "white",
             "minorgridcolor": "white",
             "startlinecolor": "#2a3f5f"
            },
            "baxis": {
             "endlinecolor": "#2a3f5f",
             "gridcolor": "white",
             "linecolor": "white",
             "minorgridcolor": "white",
             "startlinecolor": "#2a3f5f"
            },
            "type": "carpet"
           }
          ],
          "choropleth": [
           {
            "colorbar": {
             "outlinewidth": 0,
             "ticks": ""
            },
            "type": "choropleth"
           }
          ],
          "contour": [
           {
            "colorbar": {
             "outlinewidth": 0,
             "ticks": ""
            },
            "colorscale": [
             [
              0,
              "#0d0887"
             ],
             [
              0.1111111111111111,
              "#46039f"
             ],
             [
              0.2222222222222222,
              "#7201a8"
             ],
             [
              0.3333333333333333,
              "#9c179e"
             ],
             [
              0.4444444444444444,
              "#bd3786"
             ],
             [
              0.5555555555555556,
              "#d8576b"
             ],
             [
              0.6666666666666666,
              "#ed7953"
             ],
             [
              0.7777777777777778,
              "#fb9f3a"
             ],
             [
              0.8888888888888888,
              "#fdca26"
             ],
             [
              1,
              "#f0f921"
             ]
            ],
            "type": "contour"
           }
          ],
          "contourcarpet": [
           {
            "colorbar": {
             "outlinewidth": 0,
             "ticks": ""
            },
            "type": "contourcarpet"
           }
          ],
          "heatmap": [
           {
            "colorbar": {
             "outlinewidth": 0,
             "ticks": ""
            },
            "colorscale": [
             [
              0,
              "#0d0887"
             ],
             [
              0.1111111111111111,
              "#46039f"
             ],
             [
              0.2222222222222222,
              "#7201a8"
             ],
             [
              0.3333333333333333,
              "#9c179e"
             ],
             [
              0.4444444444444444,
              "#bd3786"
             ],
             [
              0.5555555555555556,
              "#d8576b"
             ],
             [
              0.6666666666666666,
              "#ed7953"
             ],
             [
              0.7777777777777778,
              "#fb9f3a"
             ],
             [
              0.8888888888888888,
              "#fdca26"
             ],
             [
              1,
              "#f0f921"
             ]
            ],
            "type": "heatmap"
           }
          ],
          "heatmapgl": [
           {
            "colorbar": {
             "outlinewidth": 0,
             "ticks": ""
            },
            "colorscale": [
             [
              0,
              "#0d0887"
             ],
             [
              0.1111111111111111,
              "#46039f"
             ],
             [
              0.2222222222222222,
              "#7201a8"
             ],
             [
              0.3333333333333333,
              "#9c179e"
             ],
             [
              0.4444444444444444,
              "#bd3786"
             ],
             [
              0.5555555555555556,
              "#d8576b"
             ],
             [
              0.6666666666666666,
              "#ed7953"
             ],
             [
              0.7777777777777778,
              "#fb9f3a"
             ],
             [
              0.8888888888888888,
              "#fdca26"
             ],
             [
              1,
              "#f0f921"
             ]
            ],
            "type": "heatmapgl"
           }
          ],
          "histogram": [
           {
            "marker": {
             "pattern": {
              "fillmode": "overlay",
              "size": 10,
              "solidity": 0.2
             }
            },
            "type": "histogram"
           }
          ],
          "histogram2d": [
           {
            "colorbar": {
             "outlinewidth": 0,
             "ticks": ""
            },
            "colorscale": [
             [
              0,
              "#0d0887"
             ],
             [
              0.1111111111111111,
              "#46039f"
             ],
             [
              0.2222222222222222,
              "#7201a8"
             ],
             [
              0.3333333333333333,
              "#9c179e"
             ],
             [
              0.4444444444444444,
              "#bd3786"
             ],
             [
              0.5555555555555556,
              "#d8576b"
             ],
             [
              0.6666666666666666,
              "#ed7953"
             ],
             [
              0.7777777777777778,
              "#fb9f3a"
             ],
             [
              0.8888888888888888,
              "#fdca26"
             ],
             [
              1,
              "#f0f921"
             ]
            ],
            "type": "histogram2d"
           }
          ],
          "histogram2dcontour": [
           {
            "colorbar": {
             "outlinewidth": 0,
             "ticks": ""
            },
            "colorscale": [
             [
              0,
              "#0d0887"
             ],
             [
              0.1111111111111111,
              "#46039f"
             ],
             [
              0.2222222222222222,
              "#7201a8"
             ],
             [
              0.3333333333333333,
              "#9c179e"
             ],
             [
              0.4444444444444444,
              "#bd3786"
             ],
             [
              0.5555555555555556,
              "#d8576b"
             ],
             [
              0.6666666666666666,
              "#ed7953"
             ],
             [
              0.7777777777777778,
              "#fb9f3a"
             ],
             [
              0.8888888888888888,
              "#fdca26"
             ],
             [
              1,
              "#f0f921"
             ]
            ],
            "type": "histogram2dcontour"
           }
          ],
          "mesh3d": [
           {
            "colorbar": {
             "outlinewidth": 0,
             "ticks": ""
            },
            "type": "mesh3d"
           }
          ],
          "parcoords": [
           {
            "line": {
             "colorbar": {
              "outlinewidth": 0,
              "ticks": ""
             }
            },
            "type": "parcoords"
           }
          ],
          "pie": [
           {
            "automargin": true,
            "type": "pie"
           }
          ],
          "scatter": [
           {
            "fillpattern": {
             "fillmode": "overlay",
             "size": 10,
             "solidity": 0.2
            },
            "type": "scatter"
           }
          ],
          "scatter3d": [
           {
            "line": {
             "colorbar": {
              "outlinewidth": 0,
              "ticks": ""
             }
            },
            "marker": {
             "colorbar": {
              "outlinewidth": 0,
              "ticks": ""
             }
            },
            "type": "scatter3d"
           }
          ],
          "scattercarpet": [
           {
            "marker": {
             "colorbar": {
              "outlinewidth": 0,
              "ticks": ""
             }
            },
            "type": "scattercarpet"
           }
          ],
          "scattergeo": [
           {
            "marker": {
             "colorbar": {
              "outlinewidth": 0,
              "ticks": ""
             }
            },
            "type": "scattergeo"
           }
          ],
          "scattergl": [
           {
            "marker": {
             "colorbar": {
              "outlinewidth": 0,
              "ticks": ""
             }
            },
            "type": "scattergl"
           }
          ],
          "scattermapbox": [
           {
            "marker": {
             "colorbar": {
              "outlinewidth": 0,
              "ticks": ""
             }
            },
            "type": "scattermapbox"
           }
          ],
          "scatterpolar": [
           {
            "marker": {
             "colorbar": {
              "outlinewidth": 0,
              "ticks": ""
             }
            },
            "type": "scatterpolar"
           }
          ],
          "scatterpolargl": [
           {
            "marker": {
             "colorbar": {
              "outlinewidth": 0,
              "ticks": ""
             }
            },
            "type": "scatterpolargl"
           }
          ],
          "scatterternary": [
           {
            "marker": {
             "colorbar": {
              "outlinewidth": 0,
              "ticks": ""
             }
            },
            "type": "scatterternary"
           }
          ],
          "surface": [
           {
            "colorbar": {
             "outlinewidth": 0,
             "ticks": ""
            },
            "colorscale": [
             [
              0,
              "#0d0887"
             ],
             [
              0.1111111111111111,
              "#46039f"
             ],
             [
              0.2222222222222222,
              "#7201a8"
             ],
             [
              0.3333333333333333,
              "#9c179e"
             ],
             [
              0.4444444444444444,
              "#bd3786"
             ],
             [
              0.5555555555555556,
              "#d8576b"
             ],
             [
              0.6666666666666666,
              "#ed7953"
             ],
             [
              0.7777777777777778,
              "#fb9f3a"
             ],
             [
              0.8888888888888888,
              "#fdca26"
             ],
             [
              1,
              "#f0f921"
             ]
            ],
            "type": "surface"
           }
          ],
          "table": [
           {
            "cells": {
             "fill": {
              "color": "#EBF0F8"
             },
             "line": {
              "color": "white"
             }
            },
            "header": {
             "fill": {
              "color": "#C8D4E3"
             },
             "line": {
              "color": "white"
             }
            },
            "type": "table"
           }
          ]
         },
         "layout": {
          "annotationdefaults": {
           "arrowcolor": "#2a3f5f",
           "arrowhead": 0,
           "arrowwidth": 1
          },
          "autotypenumbers": "strict",
          "coloraxis": {
           "colorbar": {
            "outlinewidth": 0,
            "ticks": ""
           }
          },
          "colorscale": {
           "diverging": [
            [
             0,
             "#8e0152"
            ],
            [
             0.1,
             "#c51b7d"
            ],
            [
             0.2,
             "#de77ae"
            ],
            [
             0.3,
             "#f1b6da"
            ],
            [
             0.4,
             "#fde0ef"
            ],
            [
             0.5,
             "#f7f7f7"
            ],
            [
             0.6,
             "#e6f5d0"
            ],
            [
             0.7,
             "#b8e186"
            ],
            [
             0.8,
             "#7fbc41"
            ],
            [
             0.9,
             "#4d9221"
            ],
            [
             1,
             "#276419"
            ]
           ],
           "sequential": [
            [
             0,
             "#0d0887"
            ],
            [
             0.1111111111111111,
             "#46039f"
            ],
            [
             0.2222222222222222,
             "#7201a8"
            ],
            [
             0.3333333333333333,
             "#9c179e"
            ],
            [
             0.4444444444444444,
             "#bd3786"
            ],
            [
             0.5555555555555556,
             "#d8576b"
            ],
            [
             0.6666666666666666,
             "#ed7953"
            ],
            [
             0.7777777777777778,
             "#fb9f3a"
            ],
            [
             0.8888888888888888,
             "#fdca26"
            ],
            [
             1,
             "#f0f921"
            ]
           ],
           "sequentialminus": [
            [
             0,
             "#0d0887"
            ],
            [
             0.1111111111111111,
             "#46039f"
            ],
            [
             0.2222222222222222,
             "#7201a8"
            ],
            [
             0.3333333333333333,
             "#9c179e"
            ],
            [
             0.4444444444444444,
             "#bd3786"
            ],
            [
             0.5555555555555556,
             "#d8576b"
            ],
            [
             0.6666666666666666,
             "#ed7953"
            ],
            [
             0.7777777777777778,
             "#fb9f3a"
            ],
            [
             0.8888888888888888,
             "#fdca26"
            ],
            [
             1,
             "#f0f921"
            ]
           ]
          },
          "colorway": [
           "#636efa",
           "#EF553B",
           "#00cc96",
           "#ab63fa",
           "#FFA15A",
           "#19d3f3",
           "#FF6692",
           "#B6E880",
           "#FF97FF",
           "#FECB52"
          ],
          "font": {
           "color": "#2a3f5f"
          },
          "geo": {
           "bgcolor": "white",
           "lakecolor": "white",
           "landcolor": "#E5ECF6",
           "showlakes": true,
           "showland": true,
           "subunitcolor": "white"
          },
          "hoverlabel": {
           "align": "left"
          },
          "hovermode": "closest",
          "mapbox": {
           "style": "light"
          },
          "paper_bgcolor": "white",
          "plot_bgcolor": "#E5ECF6",
          "polar": {
           "angularaxis": {
            "gridcolor": "white",
            "linecolor": "white",
            "ticks": ""
           },
           "bgcolor": "#E5ECF6",
           "radialaxis": {
            "gridcolor": "white",
            "linecolor": "white",
            "ticks": ""
           }
          },
          "scene": {
           "xaxis": {
            "backgroundcolor": "#E5ECF6",
            "gridcolor": "white",
            "gridwidth": 2,
            "linecolor": "white",
            "showbackground": true,
            "ticks": "",
            "zerolinecolor": "white"
           },
           "yaxis": {
            "backgroundcolor": "#E5ECF6",
            "gridcolor": "white",
            "gridwidth": 2,
            "linecolor": "white",
            "showbackground": true,
            "ticks": "",
            "zerolinecolor": "white"
           },
           "zaxis": {
            "backgroundcolor": "#E5ECF6",
            "gridcolor": "white",
            "gridwidth": 2,
            "linecolor": "white",
            "showbackground": true,
            "ticks": "",
            "zerolinecolor": "white"
           }
          },
          "shapedefaults": {
           "line": {
            "color": "#2a3f5f"
           }
          },
          "ternary": {
           "aaxis": {
            "gridcolor": "white",
            "linecolor": "white",
            "ticks": ""
           },
           "baxis": {
            "gridcolor": "white",
            "linecolor": "white",
            "ticks": ""
           },
           "bgcolor": "#E5ECF6",
           "caxis": {
            "gridcolor": "white",
            "linecolor": "white",
            "ticks": ""
           }
          },
          "title": {
           "x": 0.05
          },
          "xaxis": {
           "automargin": true,
           "gridcolor": "white",
           "linecolor": "white",
           "ticks": "",
           "title": {
            "standoff": 15
           },
           "zerolinecolor": "white",
           "zerolinewidth": 2
          },
          "yaxis": {
           "automargin": true,
           "gridcolor": "white",
           "linecolor": "white",
           "ticks": "",
           "title": {
            "standoff": 15
           },
           "zerolinecolor": "white",
           "zerolinewidth": 2
          }
         }
        },
        "title": {
         "text": "Quarterly GDP value over time [2004-01 - 2023-09]"
        },
        "width": 900,
        "xaxis": {
         "title": {
          "text": "Date [Quarters]"
         }
        },
        "yaxis": {
         "title": {
          "text": "GDP"
         }
        }
       }
      }
     },
     "metadata": {},
     "output_type": "display_data"
    }
   ],
   "source": [
    "# Create a new figure\n",
    "fig = go.Figure()\n",
    "\n",
    "# Add a scatter plot to the figure\n",
    "fig.add_trace(go.Scatter(x=gdpts.index,\n",
    "                         y=gdpts['GDP'],\n",
    "                         mode='markers+lines',\n",
    "                         name='GDP',\n",
    "                         marker=dict(color='blue'),\n",
    "                         line=dict(color='blue', width=2),\n",
    "                         showlegend=True,\n",
    "                         hoverlabel=dict(bgcolor='white', font_size=12, font_family='Rockwell'),\n",
    "                         hoverinfo='x+y',\n",
    "                         # hovertemplate='Quarter: %{x}<br>GDP: %{y:.2f} trillion USD<br>',\n",
    "                         textposition='top center',\n",
    "                         textfont=dict(family='Rockwell', size=12, color='blue'),\n",
    "                         text='GDP'))\n",
    "\n",
    "# Set the title, x-label, and y-label of the plot\n",
    "fig.update_layout(title=\"Quarterly GDP value over time [2004-01 - 2023-09]\", \n",
    "                  xaxis_title='Date [Quarters]', \n",
    "                  yaxis_title='GDP', \n",
    "                  autosize=False, \n",
    "                  width=900,\n",
    "                  height=500,\n",
    "                  margin=dict(l=50, r=50, b=100, t=100, pad=4),\n",
    "                  hoverlabel=dict(bgcolor='white', font_size=12, font_family='Rockwell'),\n",
    "                  hovermode='x unified')\n",
    "\n",
    "# Show the figure\n",
    "fig.show()"
   ]
  },
  {
   "cell_type": "markdown",
   "metadata": {},
   "source": [
    "## Calculate GDP Growth Rate"
   ]
  },
  {
   "cell_type": "code",
   "execution_count": 32,
   "metadata": {},
   "outputs": [
    {
     "data": {
      "text/plain": [
       "(79, 2)"
      ]
     },
     "execution_count": 32,
     "metadata": {},
     "output_type": "execute_result"
    }
   ],
   "source": [
    "# Calculate the GDP growth rate\n",
    "# pct_change: is a pandas function that calculates the percentage change between the current and a prior element.\n",
    "# pct_change = ((current_element - previous_element) / |previous_element|) * 100\n",
    "\n",
    "gdpts['GDP_GrowthRate'] = gdpts['GDP'].pct_change()\n",
    "gdpts.shape"
   ]
  },
  {
   "cell_type": "code",
   "execution_count": 39,
   "metadata": {},
   "outputs": [
    {
     "data": {
      "text/html": [
       "<div>\n",
       "<style scoped>\n",
       "    .dataframe tbody tr th:only-of-type {\n",
       "        vertical-align: middle;\n",
       "    }\n",
       "\n",
       "    .dataframe tbody tr th {\n",
       "        vertical-align: top;\n",
       "    }\n",
       "\n",
       "    .dataframe thead th {\n",
       "        text-align: right;\n",
       "    }\n",
       "</style>\n",
       "<table border=\"1\" class=\"dataframe\">\n",
       "  <thead>\n",
       "    <tr style=\"text-align: right;\">\n",
       "      <th></th>\n",
       "      <th>GDP</th>\n",
       "      <th>GDP_GrowthRate</th>\n",
       "    </tr>\n",
       "    <tr>\n",
       "      <th>Date</th>\n",
       "      <th></th>\n",
       "      <th></th>\n",
       "    </tr>\n",
       "  </thead>\n",
       "  <tbody>\n",
       "    <tr>\n",
       "      <th>2004-03</th>\n",
       "      <td>793035.1</td>\n",
       "      <td>NaN</td>\n",
       "    </tr>\n",
       "    <tr>\n",
       "      <th>2004-06</th>\n",
       "      <td>804117.4</td>\n",
       "      <td>0.013975</td>\n",
       "    </tr>\n",
       "    <tr>\n",
       "      <th>2004-09</th>\n",
       "      <td>817265.7</td>\n",
       "      <td>0.016351</td>\n",
       "    </tr>\n",
       "    <tr>\n",
       "      <th>2004-12</th>\n",
       "      <td>825993.5</td>\n",
       "      <td>0.010679</td>\n",
       "    </tr>\n",
       "    <tr>\n",
       "      <th>2005-03</th>\n",
       "      <td>834390.5</td>\n",
       "      <td>0.010166</td>\n",
       "    </tr>\n",
       "    <tr>\n",
       "      <th>...</th>\n",
       "      <td>...</td>\n",
       "      <td>...</td>\n",
       "    </tr>\n",
       "    <tr>\n",
       "      <th>2022-09</th>\n",
       "      <td>1160699.9</td>\n",
       "      <td>0.017740</td>\n",
       "    </tr>\n",
       "    <tr>\n",
       "      <th>2022-12</th>\n",
       "      <td>1148001.1</td>\n",
       "      <td>-0.010941</td>\n",
       "    </tr>\n",
       "    <tr>\n",
       "      <th>2023-03</th>\n",
       "      <td>1152669.1</td>\n",
       "      <td>0.004066</td>\n",
       "    </tr>\n",
       "    <tr>\n",
       "      <th>2023-06</th>\n",
       "      <td>1157940.6</td>\n",
       "      <td>0.004573</td>\n",
       "    </tr>\n",
       "    <tr>\n",
       "      <th>2023-09</th>\n",
       "      <td>1155074.2</td>\n",
       "      <td>-0.002475</td>\n",
       "    </tr>\n",
       "  </tbody>\n",
       "</table>\n",
       "<p>79 rows × 2 columns</p>\n",
       "</div>"
      ],
      "text/plain": [
       "               GDP  GDP_GrowthRate\n",
       "Date                              \n",
       "2004-03   793035.1             NaN\n",
       "2004-06   804117.4        0.013975\n",
       "2004-09   817265.7        0.016351\n",
       "2004-12   825993.5        0.010679\n",
       "2005-03   834390.5        0.010166\n",
       "...            ...             ...\n",
       "2022-09  1160699.9        0.017740\n",
       "2022-12  1148001.1       -0.010941\n",
       "2023-03  1152669.1        0.004066\n",
       "2023-06  1157940.6        0.004573\n",
       "2023-09  1155074.2       -0.002475\n",
       "\n",
       "[79 rows x 2 columns]"
      ]
     },
     "execution_count": 39,
     "metadata": {},
     "output_type": "execute_result"
    }
   ],
   "source": [
    "gdpts"
   ]
  },
  {
   "cell_type": "markdown",
   "metadata": {},
   "source": [
    "## Plot for GDP growth rate  "
   ]
  },
  {
   "cell_type": "code",
   "execution_count": 34,
   "metadata": {},
   "outputs": [
    {
     "data": {
      "application/vnd.plotly.v1+json": {
       "config": {
        "plotlyServerURL": "https://plot.ly"
       },
       "data": [
        {
         "hoverinfo": "x+y",
         "hoverlabel": {
          "bgcolor": "white",
          "font": {
           "family": "Rockwell",
           "size": 12
          }
         },
         "line": {
          "color": "blue",
          "width": 2
         },
         "marker": {
          "color": "blue"
         },
         "mode": "markers+lines",
         "name": "GDP GrowthRat",
         "showlegend": true,
         "text": "GDP",
         "textfont": {
          "color": "blue",
          "family": "Rockwell",
          "size": 12
         },
         "textposition": "top center",
         "type": "scatter",
         "x": [
          "2004-03",
          "2004-06",
          "2004-09",
          "2004-12",
          "2005-03",
          "2005-06",
          "2005-09",
          "2005-12",
          "2006-03",
          "2006-06",
          "2006-09",
          "2006-12",
          "2007-03",
          "2007-06",
          "2007-09",
          "2007-12",
          "2008-03",
          "2008-06",
          "2008-09",
          "2008-12",
          "2009-03",
          "2009-06",
          "2009-09",
          "2009-12",
          "2010-03",
          "2010-06",
          "2010-09",
          "2010-12",
          "2011-03",
          "2011-06",
          "2011-09",
          "2011-12",
          "2012-03",
          "2012-06",
          "2012-09",
          "2012-12",
          "2013-03",
          "2013-06",
          "2013-09",
          "2013-12",
          "2014-03",
          "2014-06",
          "2014-09",
          "2014-12",
          "2015-03",
          "2015-06",
          "2015-09",
          "2015-12",
          "2016-03",
          "2016-06",
          "2016-09",
          "2016-12",
          "2017-03",
          "2017-06",
          "2017-09",
          "2017-12",
          "2018-03",
          "2018-06",
          "2018-09",
          "2018-12",
          "2019-03",
          "2019-06",
          "2019-09",
          "2019-12",
          "2020-03",
          "2020-06",
          "2020-09",
          "2020-12",
          "2021-03",
          "2021-06",
          "2021-09",
          "2021-12",
          "2022-03",
          "2022-06",
          "2022-09",
          "2022-12",
          "2023-03",
          "2023-06",
          "2023-09"
         ],
         "y": [
          null,
          0.013974539084083526,
          0.01635121936174988,
          0.010679268688261523,
          0.010165939562478465,
          0.017945554269853226,
          0.013636201482968291,
          0.006693565753586039,
          0.017571641692886608,
          0.01420246423078253,
          0.013811508610406031,
          0.013828241849164646,
          0.016236659981565316,
          0.008195571137760815,
          0.011719403984597365,
          0.014170795202549158,
          0.004200062577238706,
          0.012208811771613926,
          0.002389366955685146,
          -0.005692458954198565,
          -0.015555452062931407,
          -0.0034320813183956744,
          0.0023190793805558663,
          0.0066696481726054024,
          0.011667315452700722,
          0.008394127160282538,
          0.008902436372701716,
          0.00930784960245612,
          0.00984800970529065,
          0.005596636943036026,
          0.0041377834554774395,
          0.0068408760949774106,
          0.00566838167877215,
          0.008347394915206197,
          0.004065549036571303,
          0.004769444392981326,
          0.007760174780755857,
          0.007273868242230419,
          0.004744518578032375,
          0.0053835238045261136,
          -0.0013793644023838425,
          0.0039467486280337916,
          0.004805780623399425,
          0.007487718729732418,
          0.007223545950409305,
          -0.00844259513412804,
          0.004504240591040709,
          0.004334605457617879,
          0.0023886230554788224,
          0.0009621507266914797,
          -0.00012178224130909854,
          0.000849073919767962,
          0.004721268330850181,
          0.005453077689552055,
          0.0018389803558491735,
          0.003933527415512783,
          0.005290330883899852,
          -0.0024866037301517485,
          0.012298206857110472,
          0.0027749475561207326,
          -0.008734332408623868,
          0.004522111409575702,
          0.0010510952826199293,
          -0.0003621351740753509,
          0.0023593065331171115,
          -0.1688993836318814,
          0.13730043784289014,
          0.02741993787637287,
          0.006412368298732041,
          0.012978666207894562,
          -0.01875257464257085,
          0.013729960323817236,
          0.015320759194362266,
          -0.008367678411814072,
          0.017739641010658502,
          -0.010940640211996033,
          0.004066198194409454,
          0.004573298616229016,
          -0.0024754292232262998
         ]
        }
       ],
       "layout": {
        "autosize": false,
        "height": 500,
        "hoverlabel": {
         "bgcolor": "white",
         "font": {
          "family": "Rockwell",
          "size": 12
         }
        },
        "hovermode": "x unified",
        "margin": {
         "b": 100,
         "l": 50,
         "pad": 4,
         "r": 50,
         "t": 100
        },
        "template": {
         "data": {
          "bar": [
           {
            "error_x": {
             "color": "#2a3f5f"
            },
            "error_y": {
             "color": "#2a3f5f"
            },
            "marker": {
             "line": {
              "color": "#E5ECF6",
              "width": 0.5
             },
             "pattern": {
              "fillmode": "overlay",
              "size": 10,
              "solidity": 0.2
             }
            },
            "type": "bar"
           }
          ],
          "barpolar": [
           {
            "marker": {
             "line": {
              "color": "#E5ECF6",
              "width": 0.5
             },
             "pattern": {
              "fillmode": "overlay",
              "size": 10,
              "solidity": 0.2
             }
            },
            "type": "barpolar"
           }
          ],
          "carpet": [
           {
            "aaxis": {
             "endlinecolor": "#2a3f5f",
             "gridcolor": "white",
             "linecolor": "white",
             "minorgridcolor": "white",
             "startlinecolor": "#2a3f5f"
            },
            "baxis": {
             "endlinecolor": "#2a3f5f",
             "gridcolor": "white",
             "linecolor": "white",
             "minorgridcolor": "white",
             "startlinecolor": "#2a3f5f"
            },
            "type": "carpet"
           }
          ],
          "choropleth": [
           {
            "colorbar": {
             "outlinewidth": 0,
             "ticks": ""
            },
            "type": "choropleth"
           }
          ],
          "contour": [
           {
            "colorbar": {
             "outlinewidth": 0,
             "ticks": ""
            },
            "colorscale": [
             [
              0,
              "#0d0887"
             ],
             [
              0.1111111111111111,
              "#46039f"
             ],
             [
              0.2222222222222222,
              "#7201a8"
             ],
             [
              0.3333333333333333,
              "#9c179e"
             ],
             [
              0.4444444444444444,
              "#bd3786"
             ],
             [
              0.5555555555555556,
              "#d8576b"
             ],
             [
              0.6666666666666666,
              "#ed7953"
             ],
             [
              0.7777777777777778,
              "#fb9f3a"
             ],
             [
              0.8888888888888888,
              "#fdca26"
             ],
             [
              1,
              "#f0f921"
             ]
            ],
            "type": "contour"
           }
          ],
          "contourcarpet": [
           {
            "colorbar": {
             "outlinewidth": 0,
             "ticks": ""
            },
            "type": "contourcarpet"
           }
          ],
          "heatmap": [
           {
            "colorbar": {
             "outlinewidth": 0,
             "ticks": ""
            },
            "colorscale": [
             [
              0,
              "#0d0887"
             ],
             [
              0.1111111111111111,
              "#46039f"
             ],
             [
              0.2222222222222222,
              "#7201a8"
             ],
             [
              0.3333333333333333,
              "#9c179e"
             ],
             [
              0.4444444444444444,
              "#bd3786"
             ],
             [
              0.5555555555555556,
              "#d8576b"
             ],
             [
              0.6666666666666666,
              "#ed7953"
             ],
             [
              0.7777777777777778,
              "#fb9f3a"
             ],
             [
              0.8888888888888888,
              "#fdca26"
             ],
             [
              1,
              "#f0f921"
             ]
            ],
            "type": "heatmap"
           }
          ],
          "heatmapgl": [
           {
            "colorbar": {
             "outlinewidth": 0,
             "ticks": ""
            },
            "colorscale": [
             [
              0,
              "#0d0887"
             ],
             [
              0.1111111111111111,
              "#46039f"
             ],
             [
              0.2222222222222222,
              "#7201a8"
             ],
             [
              0.3333333333333333,
              "#9c179e"
             ],
             [
              0.4444444444444444,
              "#bd3786"
             ],
             [
              0.5555555555555556,
              "#d8576b"
             ],
             [
              0.6666666666666666,
              "#ed7953"
             ],
             [
              0.7777777777777778,
              "#fb9f3a"
             ],
             [
              0.8888888888888888,
              "#fdca26"
             ],
             [
              1,
              "#f0f921"
             ]
            ],
            "type": "heatmapgl"
           }
          ],
          "histogram": [
           {
            "marker": {
             "pattern": {
              "fillmode": "overlay",
              "size": 10,
              "solidity": 0.2
             }
            },
            "type": "histogram"
           }
          ],
          "histogram2d": [
           {
            "colorbar": {
             "outlinewidth": 0,
             "ticks": ""
            },
            "colorscale": [
             [
              0,
              "#0d0887"
             ],
             [
              0.1111111111111111,
              "#46039f"
             ],
             [
              0.2222222222222222,
              "#7201a8"
             ],
             [
              0.3333333333333333,
              "#9c179e"
             ],
             [
              0.4444444444444444,
              "#bd3786"
             ],
             [
              0.5555555555555556,
              "#d8576b"
             ],
             [
              0.6666666666666666,
              "#ed7953"
             ],
             [
              0.7777777777777778,
              "#fb9f3a"
             ],
             [
              0.8888888888888888,
              "#fdca26"
             ],
             [
              1,
              "#f0f921"
             ]
            ],
            "type": "histogram2d"
           }
          ],
          "histogram2dcontour": [
           {
            "colorbar": {
             "outlinewidth": 0,
             "ticks": ""
            },
            "colorscale": [
             [
              0,
              "#0d0887"
             ],
             [
              0.1111111111111111,
              "#46039f"
             ],
             [
              0.2222222222222222,
              "#7201a8"
             ],
             [
              0.3333333333333333,
              "#9c179e"
             ],
             [
              0.4444444444444444,
              "#bd3786"
             ],
             [
              0.5555555555555556,
              "#d8576b"
             ],
             [
              0.6666666666666666,
              "#ed7953"
             ],
             [
              0.7777777777777778,
              "#fb9f3a"
             ],
             [
              0.8888888888888888,
              "#fdca26"
             ],
             [
              1,
              "#f0f921"
             ]
            ],
            "type": "histogram2dcontour"
           }
          ],
          "mesh3d": [
           {
            "colorbar": {
             "outlinewidth": 0,
             "ticks": ""
            },
            "type": "mesh3d"
           }
          ],
          "parcoords": [
           {
            "line": {
             "colorbar": {
              "outlinewidth": 0,
              "ticks": ""
             }
            },
            "type": "parcoords"
           }
          ],
          "pie": [
           {
            "automargin": true,
            "type": "pie"
           }
          ],
          "scatter": [
           {
            "fillpattern": {
             "fillmode": "overlay",
             "size": 10,
             "solidity": 0.2
            },
            "type": "scatter"
           }
          ],
          "scatter3d": [
           {
            "line": {
             "colorbar": {
              "outlinewidth": 0,
              "ticks": ""
             }
            },
            "marker": {
             "colorbar": {
              "outlinewidth": 0,
              "ticks": ""
             }
            },
            "type": "scatter3d"
           }
          ],
          "scattercarpet": [
           {
            "marker": {
             "colorbar": {
              "outlinewidth": 0,
              "ticks": ""
             }
            },
            "type": "scattercarpet"
           }
          ],
          "scattergeo": [
           {
            "marker": {
             "colorbar": {
              "outlinewidth": 0,
              "ticks": ""
             }
            },
            "type": "scattergeo"
           }
          ],
          "scattergl": [
           {
            "marker": {
             "colorbar": {
              "outlinewidth": 0,
              "ticks": ""
             }
            },
            "type": "scattergl"
           }
          ],
          "scattermapbox": [
           {
            "marker": {
             "colorbar": {
              "outlinewidth": 0,
              "ticks": ""
             }
            },
            "type": "scattermapbox"
           }
          ],
          "scatterpolar": [
           {
            "marker": {
             "colorbar": {
              "outlinewidth": 0,
              "ticks": ""
             }
            },
            "type": "scatterpolar"
           }
          ],
          "scatterpolargl": [
           {
            "marker": {
             "colorbar": {
              "outlinewidth": 0,
              "ticks": ""
             }
            },
            "type": "scatterpolargl"
           }
          ],
          "scatterternary": [
           {
            "marker": {
             "colorbar": {
              "outlinewidth": 0,
              "ticks": ""
             }
            },
            "type": "scatterternary"
           }
          ],
          "surface": [
           {
            "colorbar": {
             "outlinewidth": 0,
             "ticks": ""
            },
            "colorscale": [
             [
              0,
              "#0d0887"
             ],
             [
              0.1111111111111111,
              "#46039f"
             ],
             [
              0.2222222222222222,
              "#7201a8"
             ],
             [
              0.3333333333333333,
              "#9c179e"
             ],
             [
              0.4444444444444444,
              "#bd3786"
             ],
             [
              0.5555555555555556,
              "#d8576b"
             ],
             [
              0.6666666666666666,
              "#ed7953"
             ],
             [
              0.7777777777777778,
              "#fb9f3a"
             ],
             [
              0.8888888888888888,
              "#fdca26"
             ],
             [
              1,
              "#f0f921"
             ]
            ],
            "type": "surface"
           }
          ],
          "table": [
           {
            "cells": {
             "fill": {
              "color": "#EBF0F8"
             },
             "line": {
              "color": "white"
             }
            },
            "header": {
             "fill": {
              "color": "#C8D4E3"
             },
             "line": {
              "color": "white"
             }
            },
            "type": "table"
           }
          ]
         },
         "layout": {
          "annotationdefaults": {
           "arrowcolor": "#2a3f5f",
           "arrowhead": 0,
           "arrowwidth": 1
          },
          "autotypenumbers": "strict",
          "coloraxis": {
           "colorbar": {
            "outlinewidth": 0,
            "ticks": ""
           }
          },
          "colorscale": {
           "diverging": [
            [
             0,
             "#8e0152"
            ],
            [
             0.1,
             "#c51b7d"
            ],
            [
             0.2,
             "#de77ae"
            ],
            [
             0.3,
             "#f1b6da"
            ],
            [
             0.4,
             "#fde0ef"
            ],
            [
             0.5,
             "#f7f7f7"
            ],
            [
             0.6,
             "#e6f5d0"
            ],
            [
             0.7,
             "#b8e186"
            ],
            [
             0.8,
             "#7fbc41"
            ],
            [
             0.9,
             "#4d9221"
            ],
            [
             1,
             "#276419"
            ]
           ],
           "sequential": [
            [
             0,
             "#0d0887"
            ],
            [
             0.1111111111111111,
             "#46039f"
            ],
            [
             0.2222222222222222,
             "#7201a8"
            ],
            [
             0.3333333333333333,
             "#9c179e"
            ],
            [
             0.4444444444444444,
             "#bd3786"
            ],
            [
             0.5555555555555556,
             "#d8576b"
            ],
            [
             0.6666666666666666,
             "#ed7953"
            ],
            [
             0.7777777777777778,
             "#fb9f3a"
            ],
            [
             0.8888888888888888,
             "#fdca26"
            ],
            [
             1,
             "#f0f921"
            ]
           ],
           "sequentialminus": [
            [
             0,
             "#0d0887"
            ],
            [
             0.1111111111111111,
             "#46039f"
            ],
            [
             0.2222222222222222,
             "#7201a8"
            ],
            [
             0.3333333333333333,
             "#9c179e"
            ],
            [
             0.4444444444444444,
             "#bd3786"
            ],
            [
             0.5555555555555556,
             "#d8576b"
            ],
            [
             0.6666666666666666,
             "#ed7953"
            ],
            [
             0.7777777777777778,
             "#fb9f3a"
            ],
            [
             0.8888888888888888,
             "#fdca26"
            ],
            [
             1,
             "#f0f921"
            ]
           ]
          },
          "colorway": [
           "#636efa",
           "#EF553B",
           "#00cc96",
           "#ab63fa",
           "#FFA15A",
           "#19d3f3",
           "#FF6692",
           "#B6E880",
           "#FF97FF",
           "#FECB52"
          ],
          "font": {
           "color": "#2a3f5f"
          },
          "geo": {
           "bgcolor": "white",
           "lakecolor": "white",
           "landcolor": "#E5ECF6",
           "showlakes": true,
           "showland": true,
           "subunitcolor": "white"
          },
          "hoverlabel": {
           "align": "left"
          },
          "hovermode": "closest",
          "mapbox": {
           "style": "light"
          },
          "paper_bgcolor": "white",
          "plot_bgcolor": "#E5ECF6",
          "polar": {
           "angularaxis": {
            "gridcolor": "white",
            "linecolor": "white",
            "ticks": ""
           },
           "bgcolor": "#E5ECF6",
           "radialaxis": {
            "gridcolor": "white",
            "linecolor": "white",
            "ticks": ""
           }
          },
          "scene": {
           "xaxis": {
            "backgroundcolor": "#E5ECF6",
            "gridcolor": "white",
            "gridwidth": 2,
            "linecolor": "white",
            "showbackground": true,
            "ticks": "",
            "zerolinecolor": "white"
           },
           "yaxis": {
            "backgroundcolor": "#E5ECF6",
            "gridcolor": "white",
            "gridwidth": 2,
            "linecolor": "white",
            "showbackground": true,
            "ticks": "",
            "zerolinecolor": "white"
           },
           "zaxis": {
            "backgroundcolor": "#E5ECF6",
            "gridcolor": "white",
            "gridwidth": 2,
            "linecolor": "white",
            "showbackground": true,
            "ticks": "",
            "zerolinecolor": "white"
           }
          },
          "shapedefaults": {
           "line": {
            "color": "#2a3f5f"
           }
          },
          "ternary": {
           "aaxis": {
            "gridcolor": "white",
            "linecolor": "white",
            "ticks": ""
           },
           "baxis": {
            "gridcolor": "white",
            "linecolor": "white",
            "ticks": ""
           },
           "bgcolor": "#E5ECF6",
           "caxis": {
            "gridcolor": "white",
            "linecolor": "white",
            "ticks": ""
           }
          },
          "title": {
           "x": 0.05
          },
          "xaxis": {
           "automargin": true,
           "gridcolor": "white",
           "linecolor": "white",
           "ticks": "",
           "title": {
            "standoff": 15
           },
           "zerolinecolor": "white",
           "zerolinewidth": 2
          },
          "yaxis": {
           "automargin": true,
           "gridcolor": "white",
           "linecolor": "white",
           "ticks": "",
           "title": {
            "standoff": 15
           },
           "zerolinecolor": "white",
           "zerolinewidth": 2
          }
         }
        },
        "title": {
         "text": "Quarterly GDP value over time [2004-01 - 2023-09]"
        },
        "width": 900,
        "xaxis": {
         "title": {
          "text": "Date [Quarters]"
         }
        },
        "yaxis": {
         "title": {
          "text": "GDP Growth Rate [%]"
         }
        }
       }
      }
     },
     "metadata": {},
     "output_type": "display_data"
    }
   ],
   "source": [
    "# Create a new figure\n",
    "fig = go.Figure()\n",
    "\n",
    "# Add a scatter plot to the figure\n",
    "fig.add_trace(go.Scatter(x=gdpts.index,\n",
    "                         y=gdpts['GDP_GrowthRate'],\n",
    "                         mode='markers+lines',\n",
    "                         name='GDP GrowthRat',\n",
    "                         marker=dict(color='blue'),\n",
    "                         line=dict(color='blue', width=2),\n",
    "                         showlegend=True,\n",
    "                         hoverlabel=dict(bgcolor='white', font_size=12, font_family='Rockwell'),\n",
    "                         hoverinfo='x+y',\n",
    "                         #hovertemplate='Quarter: %{x}<br>GDP: %{y:.2f} trillion USD<br>',\n",
    "                         textposition='top center',\n",
    "                         textfont=dict(family='Rockwell', size=12, color='blue'),\n",
    "                         text='GDP'))\n",
    "\n",
    "# Set the title, x-label, and y-label of the plot\n",
    "fig.update_layout(title=\"Quarterly GDP value over time [2004-01 - 2023-09]\", \n",
    "                  xaxis_title='Date [Quarters]', \n",
    "                  yaxis_title='GDP Growth Rate [%]', \n",
    "                  autosize=False, \n",
    "                  width=900,\n",
    "                  height=500,\n",
    "                  margin=dict(l=50, r=50, b=100, t=100, pad=4),\n",
    "                  hoverlabel=dict(bgcolor='white', font_size=12, font_family='Rockwell'),\n",
    "                  hovermode='x unified')\n",
    "\n",
    "# Show the figure\n",
    "fig.show()"
   ]
  },
  {
   "cell_type": "markdown",
   "metadata": {},
   "source": [
    "## Check for stationarity\n",
    "\n",
    "Stationarity: \n",
    "    - Mean and Standard deviation should be constant and no seasonality \n",
    "\n",
    "How to check Stationarity:\n",
    "\n",
    "    1) Visual \n",
    "\n",
    "    2) Global vs local test \n",
    "\n",
    "    3) Statistical Test: ADF/KPPS Test\n",
    "\n",
    "- Augmented Dickey-Fuller (ADF) test is used to determine whether a given time series is stationary or not.\n",
    "\n",
    "- The test uses an autoregressive model and optimizes an information criterion across multiple different lag values.\n",
    "\n",
    "- A time series is said to be stationary if its statistical properties do not change over time.\n",
    "\n",
    "- In other words, it has constant mean and variance, and covariance is independent of time.\n",
    "\n",
    "\n",
    "- Null Hypothesis (H0): If accepted, it suggests the time series has some time dependent structure (meaning it is non-stationary).\n",
    "\n",
    "- Alternate Hypothesis (H1): The null hypothesis is rejected; meaning it is stationary. It does not have time-dependent structure.\n",
    "\n",
    "\n",
    "- So, if p-value < 0.05, you reject the null hypothesis and infer that the time series is stationary.\n",
    "\n",
    "- The p-value is used in hypothesis testing to help you support or reject the null hypothesis.\n",
    "- It represents the probability that the results of your test occurred at random. \n",
    "\n",
    "- If p-value < 0.05, you reject the null hypothesis. \n",
    "\n",
    "-  if the p-value of the test (obtained via regression) is less than the significance level (0.05 is commonly used), then the null hypothesis is rejected and the time series is considered to be stationary.\n",
    "\n",
    "- If p-value > 0.05, you fail to reject the null hypothesis (accept the null hypothesis). \n",
    "\n",
    "- by setting the autolag='AIC', the adfuller will choose a the number of lags that yields the lowest AIC. \n"
   ]
  },
  {
   "cell_type": "code",
   "execution_count": 35,
   "metadata": {},
   "outputs": [
    {
     "name": "stdout",
     "output_type": "stream",
     "text": [
      "ADF Statistic: -8.60114733104079\n",
      "p-value: 6.863635742652406e-14\n",
      "The series is stationary.\n"
     ]
    }
   ],
   "source": [
    "# Define the time series\n",
    "timeseries = gdpts['GDP_GrowthRate']\n",
    "\n",
    "# Run the ADF test\n",
    "result = adfuller(timeseries.dropna(), autolag='AIC')\n",
    "\n",
    "# Print the test statistic and the p-value\n",
    "print(f'ADF Statistic: {result[0]}')\n",
    "print(f'p-value: {result[1]}')\n",
    "\n",
    "# Determine if the series is stationary\n",
    "is_stationary = result[1] < 0.05\n",
    "\n",
    "# Print the result\n",
    "if is_stationary:\n",
    "    print(\"The series is stationary.\")\n",
    "else:\n",
    "    print(\"The series is not stationary.\")"
   ]
  },
  {
   "cell_type": "markdown",
   "metadata": {},
   "source": [
    "1) ADF Statistic: value of the test statistic. More negative values indicate stronger evidence against the null hypothesis.\n",
    "\n",
    "2) p-value: A small p-value (typically ≤ 0.05) indicates strong evidence against the null hypothesis\n",
    "\n",
    "3) Number of lags used: is the number of lags used in the regression when performing the ADF test.\n",
    "\n",
    "4) Number of observations used for the ADF regression and calculation of the critical values\n",
    "\n",
    "5) Critical values for the given significance level: If the computed ADF statistic is less than the critical value at a given significance level, we can reject the null hypothesis and infer that the time series is stationary.\n",
    "\n",
    "6)  AIC or BIC\n",
    "\n"
   ]
  },
  {
   "cell_type": "code",
   "execution_count": 36,
   "metadata": {},
   "outputs": [
    {
     "data": {
      "text/html": [
       "<div>\n",
       "<style scoped>\n",
       "    .dataframe tbody tr th:only-of-type {\n",
       "        vertical-align: middle;\n",
       "    }\n",
       "\n",
       "    .dataframe tbody tr th {\n",
       "        vertical-align: top;\n",
       "    }\n",
       "\n",
       "    .dataframe thead th {\n",
       "        text-align: right;\n",
       "    }\n",
       "</style>\n",
       "<table border=\"1\" class=\"dataframe\">\n",
       "  <thead>\n",
       "    <tr style=\"text-align: right;\">\n",
       "      <th></th>\n",
       "      <th>0</th>\n",
       "    </tr>\n",
       "  </thead>\n",
       "  <tbody>\n",
       "    <tr>\n",
       "      <th>Test Statistic</th>\n",
       "      <td>-8.601147e+00</td>\n",
       "    </tr>\n",
       "    <tr>\n",
       "      <th>p-value</th>\n",
       "      <td>6.863636e-14</td>\n",
       "    </tr>\n",
       "    <tr>\n",
       "      <th>No Lags Used</th>\n",
       "      <td>1.000000e+00</td>\n",
       "    </tr>\n",
       "    <tr>\n",
       "      <th>Number of Observations Used</th>\n",
       "      <td>7.600000e+01</td>\n",
       "    </tr>\n",
       "  </tbody>\n",
       "</table>\n",
       "</div>"
      ],
      "text/plain": [
       "                                        0\n",
       "Test Statistic              -8.601147e+00\n",
       "p-value                      6.863636e-14\n",
       "No Lags Used                 1.000000e+00\n",
       "Number of Observations Used  7.600000e+01"
      ]
     },
     "execution_count": 36,
     "metadata": {},
     "output_type": "execute_result"
    }
   ],
   "source": [
    "# Create a Series with the results\n",
    "dfoutput = pd.DataFrame(\n",
    "    result[0:4],\n",
    "    index=[\n",
    "        \"Test Statistic\",\n",
    "        \"p-value\",\n",
    "        \"No Lags Used\",\n",
    "        \"Number of Observations Used\",\n",
    "    ],\n",
    ")\n",
    "\n",
    "dfoutput"
   ]
  },
  {
   "cell_type": "markdown",
   "metadata": {},
   "source": [
    "In this case, \n",
    " - the ADF statistic is less than the critical values, \n",
    " -  the p-value is less than 0.05, so the null hypothesis is rejected and conclude that the time series is stationary."
   ]
  },
  {
   "cell_type": "markdown",
   "metadata": {},
   "source": [
    "### Kwiatkowski-Phillips-Schmidt-Shin test (KPSS):\n",
    "\n",
    "- The KPSS test has the null hypothesis opposite to that of the ADF test. \n",
    "\n",
    "- Null Hypothesis (H0): The process is trend stationary.\n",
    "\n",
    "- Alternate Hypothesis (H1): The series has a unit root (series is not stationary).\n",
    "\n",
    "- A trend stationary process is one where the statistical properties (like the mean and variance) are constant over time, but there could be a trend (like an increase or decrease) over time.\n",
    "\n",
    "-  both tests might be used together to confirm whether a series is truly stationary. If both tests conclude that the series is stationary, you can be fairly confident in your result. If the tests disagree, the series is likely to be difference stationary (meaning it can be made stationary by differencing the series a number of times).\n",
    "\n",
    "- regression='c' option means that the test includes a constant (or an intercept) in the regression. \n",
    "\n",
    "- Other possible options for the regression parameter are:\n",
    "\n",
    "    - 'nc': No constant or trend (also known as a test for a pure random walk).\n",
    "    - 'ct': Constant and trend.\n",
    "    - 'ctt': Constant, linear and quadratic trend."
   ]
  },
  {
   "cell_type": "code",
   "execution_count": 37,
   "metadata": {},
   "outputs": [
    {
     "name": "stdout",
     "output_type": "stream",
     "text": [
      "KPSS Statistic: 0.39868763764104154\n",
      "p-value: 0.07772084584437865\n",
      "The series is stationary.\n"
     ]
    }
   ],
   "source": [
    "# Define the time series\n",
    "timeseries = gdpts['GDP_GrowthRate']\n",
    "\n",
    "# Run the KPSS test\n",
    "result = kpss(timeseries.dropna(), regression='c', nlags='auto')\n",
    "\n",
    "# Print the test statistic and the p-value\n",
    "print(f'KPSS Statistic: {result[0]}')\n",
    "print(f'p-value: {result[1]}')\n",
    "\n",
    "# Determine if the series is stationary\n",
    "is_stationary = result[1] > 0.05\n",
    "\n",
    "# Print the result\n",
    "if is_stationary:\n",
    "    st.info(\"The time series is stationary.\")\n",
    "else:\n",
    "    st.info(\"The time series is not stationary.\")"
   ]
  },
  {
   "cell_type": "markdown",
   "metadata": {},
   "source": [
    "## Make both test at once "
   ]
  },
  {
   "cell_type": "code",
   "execution_count": 38,
   "metadata": {},
   "outputs": [
    {
     "name": "stdout",
     "output_type": "stream",
     "text": [
      "Series 'GDP' is not stationary.\n",
      "Series 'GDP_GrowthRate' is stationary.\n"
     ]
    }
   ],
   "source": [
    "# Define the DataFrame\n",
    "dataframe = gdpts  \n",
    "\n",
    "# Iterate over each series in the DataFrame\n",
    "for column in dataframe:\n",
    "    timeseries = dataframe[column].dropna()\n",
    "\n",
    "    # Run the ADF test\n",
    "    adf_result = adfuller(timeseries, autolag='AIC')\n",
    "    adf_is_stationary = adf_result[1] < 0.05\n",
    "\n",
    "    # Run the KPSS test\n",
    "    kpss_result = kpss(timeseries, regression='c', nlags='auto')\n",
    "    kpss_is_stationary = kpss_result[1] > 0.05\n",
    "\n",
    "    # Print the result\n",
    "    if adf_is_stationary and kpss_is_stationary:\n",
    "        print(f\"Series '{column}' is stationary.\")\n",
    "    elif not adf_is_stationary and not kpss_is_stationary:\n",
    "        print(f\"Series '{column}' is not stationary.\")\n",
    "    elif adf_is_stationary and not kpss_is_stationary:\n",
    "        print(f\"Series '{column}' is not stationary, differencing can be used to make it stationary.\")\n",
    "    elif not adf_is_stationary and kpss_is_stationary:\n",
    "        print(f\"Series '{column}' is trend stationary, trend needs to be removed.\")"
   ]
  },
  {
   "cell_type": "markdown",
   "metadata": {},
   "source": [
    "### To make a non-stationary time series stationary:\n",
    "\n",
    "- **Differencing**: This involves subtracting the previous observation from the current observation. Differencing can help stabilize the mean of a time series by removing changes in the level of a time series, and so eliminating (or reducing) trend and seasonality.\n",
    "\n",
    "- **Seasonal Differencing**: This is a method where the observation from the same season in the previous cycle are subtracted from the current value. This method is useful when the time series is seasonal.\n",
    "\n",
    "- **Transformation**: Transformations such as logarithm, square root, cube root, etc. can help to stabilize the variance of a time series. Log transformation is a commonly used technique which can help to reduce positive skewness.\n",
    "\n",
    "- **Decomposition**: In this approach, both trend and seasonality are modeled separately and the remaining part of the series is returned.\n",
    "\n",
    "- **Moving Average**: If a time series has a lot of noise, smoothing the time series could help to identify the underlying trend and seasonality. One way to smooth a time series is by taking a moving average, which means that for each time point, you take the average of the points on either side of it.\n",
    "\n"
   ]
  },
  {
   "cell_type": "code",
   "execution_count": 27,
   "metadata": {},
   "outputs": [],
   "source": [
    "# export the data into a csv file\n",
    "gdp_original.to_csv('data/GDP_Data/SouthAfrica_GDP.csv')"
   ]
  },
  {
   "cell_type": "code",
   "execution_count": 1,
   "metadata": {},
   "outputs": [],
   "source": []
  },
  {
   "cell_type": "markdown",
   "metadata": {},
   "source": [
    "`Hodrick-Prescott filter (HP filter)`: (HP filter provides a way to decompose a time series into its trend and cyclical components,)\n",
    "\n",
    "- The Hodrick-Prescott (HP) filter is a widely used technique in time series analysis for separating a time series into two components: a trend component and a cyclical component. \n",
    "\n",
    "- It's commonly applied in economics and finance to analyze economic data and extract underlying trends from noisy data.\n",
    "\n",
    "    - identifying long-term patterns for forecasting purposes.\n",
    "\n",
    "    - removing cyclical fluctuations for forecasting purposes.\n",
    "\n",
    "- 'get_long_term_trend' is designed to compute the long-term trend of a given DataFrame containing time-series data. \n",
    "\n",
    "- `Hodrick-Prescott filter (HP filter)`: a widely used method for separating a time series into a trend component and a cyclical component.\n",
    "\n",
    "- The function begins by taking the `natural logarithm (np.log)` of the input DataFrame. \n",
    "\n",
    "- This transformation is often applied to financial or economic data to `stabilize variance`.\n",
    "\n",
    "- the function sets the `lambda (λ)` parameter for the HP filter It  controls the `smoothness` of the resulting trend.\n",
    "\n",
    "- If freq is 'Q' (quarterly), lambda is set to 1600.\n",
    "\n",
    "- If freq is 'M' (monthly), lambda is set to 1600 multiplied by 3^4\n",
    " , which equals 1600*81 = 129,600. \n",
    " \n",
    "- This value implies a smoother trend for higher frequency data.\n",
    "\n",
    "\n",
    "- it applies the HP filter (sm.tsa.filters.hpfilter) to extract the trend component. \n",
    "\n",
    "- The HP filter separates the time series into two components: `trend` and `cycle`. \n"
   ]
  },
  {
   "cell_type": "code",
   "execution_count": null,
   "metadata": {},
   "outputs": [],
   "source": []
  }
 ],
 "metadata": {
  "kernelspec": {
   "display_name": "google_trend",
   "language": "python",
   "name": "python3"
  },
  "language_info": {
   "codemirror_mode": {
    "name": "ipython",
    "version": 3
   },
   "file_extension": ".py",
   "mimetype": "text/x-python",
   "name": "python",
   "nbconvert_exporter": "python",
   "pygments_lexer": "ipython3",
   "version": "3.10.11"
  }
 },
 "nbformat": 4,
 "nbformat_minor": 2
}
